{
  "nbformat": 4,
  "nbformat_minor": 0,
  "metadata": {
    "colab": {
      "provenance": [],
      "include_colab_link": true
    },
    "kernelspec": {
      "name": "python3",
      "display_name": "Python 3"
    },
    "language_info": {
      "name": "python"
    }
  },
  "cells": [
    {
      "cell_type": "markdown",
      "metadata": {
        "id": "view-in-github",
        "colab_type": "text"
      },
      "source": [
        "<a href=\"https://colab.research.google.com/github/emmad225/DataScienceCoursework/blob/main/DSHW3.ipynb\" target=\"_parent\"><img src=\"https://colab.research.google.com/assets/colab-badge.svg\" alt=\"Open In Colab\"/></a>"
      ]
    },
    {
      "cell_type": "markdown",
      "source": [
        "#HOMEWORK 3"
      ],
      "metadata": {
        "id": "d0oirgCfYlg3"
      }
    },
    {
      "cell_type": "markdown",
      "source": [
        "1."
      ],
      "metadata": {
        "id": "PYlsTWcfYoYx"
      }
    },
    {
      "cell_type": "code",
      "execution_count": null,
      "metadata": {
        "id": "f1ydrwYHYX0G"
      },
      "outputs": [],
      "source": [
        "import pandas as pd\n",
        "import numpy as np\n",
        "import matplotlib.pyplot as plt\n",
        "import scipy.stats as stats"
      ]
    },
    {
      "cell_type": "markdown",
      "source": [
        "a."
      ],
      "metadata": {
        "id": "4ywqF05SY9C7"
      }
    },
    {
      "cell_type": "code",
      "source": [
        "df = pd.read_csv('ames_house_prices.csv')"
      ],
      "metadata": {
        "id": "8-GiBZulYqX9"
      },
      "execution_count": null,
      "outputs": []
    },
    {
      "cell_type": "markdown",
      "source": [
        "b."
      ],
      "metadata": {
        "id": "fDawZx0jY9us"
      }
    },
    {
      "cell_type": "code",
      "source": [
        "sorted_avg = df.groupby('Neighborhood')['SalePrice'].mean().sort_values(ascending = False)\n",
        "\n",
        "sorted_avg.plot(kind='bar', title='Average Sale Price of Houses in Ames, Iowa',\n",
        "               ylabel='Average Sales Price', xlabel='Neighborhood', color = 'purple', figsize=(10, 6))"
      ],
      "metadata": {
        "colab": {
          "base_uri": "https://localhost:8080/",
          "height": 459
        },
        "id": "YalfedNpd5lQ",
        "outputId": "a96103cf-9b6f-42ec-ddf9-61bd38fb872d"
      },
      "execution_count": null,
      "outputs": [
        {
          "output_type": "execute_result",
          "data": {
            "text/plain": [
              "<matplotlib.axes._subplots.AxesSubplot at 0x7f98ec46c6d0>"
            ]
          },
          "metadata": {},
          "execution_count": 3
        },
        {
          "output_type": "display_data",
          "data": {
            "text/plain": [
              "<Figure size 720x432 with 1 Axes>"
            ],
            "image/png": "[encoded data removed]"
          },
          "metadata": {
            "needs_background": "light"
          }
        }
      ]
    },
    {
      "cell_type": "markdown",
      "source": [
        "c."
      ],
      "metadata": {
        "id": "kMZz7Ps4lgVH"
      }
    },
    {
      "cell_type": "code",
      "source": [
        "sawyer = df.query('Neighborhood == \"Sawyer\"')['SalePrice']\n",
        "oldTown = df.query('Neighborhood == \"OldTown\"')['SalePrice']\n",
        "print(np.var(sawyer), np.var(oldTown))\n",
        "\n",
        "res = stats.ttest_ind(a=sawyer, b=oldTown, equal_var=True)\n",
        "display(res)"
      ],
      "metadata": {
        "colab": {
          "base_uri": "https://localhost:8080/",
          "height": 52
        },
        "id": "55onwJvjlfFP",
        "outputId": "2d60d63e-904d-4e5c-ff97-b2305c427e0e"
      },
      "execution_count": null,
      "outputs": [
        {
          "output_type": "stream",
          "name": "stdout",
          "text": [
            "492557434.90065736 2747552193.6970787\n"
          ]
        },
        {
          "output_type": "display_data",
          "data": {
            "text/plain": [
              "Ttest_indResult(statistic=1.323045781554044, pvalue=0.18745310017370057)"
            ]
          },
          "metadata": {}
        }
      ]
    },
    {
      "cell_type": "markdown",
      "source": [
        "The p-value of this test is 0.18. Therefore this does not reject the null hypothesis and is proven to not be statistically significant because it does not lie in the range of 0.001-0.05. Additionally, because the t-statistic is a small value 1.32 (relatively close to 0), the null hypothesis can not be rejected."
      ],
      "metadata": {
        "id": "0gZf38Op23Eo"
      }
    },
    {
      "cell_type": "markdown",
      "source": [
        "#2.\n"
      ],
      "metadata": {
        "id": "HK6PZP1Mcz8F"
      }
    },
    {
      "cell_type": "markdown",
      "source": [
        "a.\n"
      ],
      "metadata": {
        "id": "5sXPA1bec1P-"
      }
    },
    {
      "cell_type": "code",
      "source": [
        "import statsmodels.api as sm\n",
        "import numpy as np\n",
        "\n",
        "Y = df['SalePrice']\n",
        "X = df[['GarageArea', 'BedroomAbvGr', 'FullBath', 'SqFt']]\n",
        "X = sm.add_constant(X)\n",
        "model = sm.OLS(Y,X)\n",
        "results = model.fit()\n",
        "results.params"
      ],
      "metadata": {
        "id": "iyd_113Gc2Mx"
      },
      "execution_count": null,
      "outputs": []
    },
    {
      "cell_type": "code",
      "source": [
        "from statsmodels.formula.api import ols\n",
        "model = ols(\"SalePrice ~ GarageArea + BedroomAbvGr + FullBath + SqFt\", data=df)\n",
        "results = model.fit()\n",
        "results.summary()"
      ],
      "metadata": {
        "id": "Wny5bTo95LRh"
      },
      "execution_count": null,
      "outputs": []
    },
    {
      "cell_type": "markdown",
      "source": [
        "The coefficient of GarageArea is 109.999586. This means that if the garage area increases by one unit or square foot, the sales price would also increase by approximately $109. This coefficient is statistically significant because it has a p-value of 0."
      ],
      "metadata": {
        "id": "DJ9fRVpo542U"
      }
    },
    {
      "cell_type": "markdown",
      "source": [
        "b."
      ],
      "metadata": {
        "id": "OcgrOo11che5"
      }
    },
    {
      "cell_type": "code",
      "source": [
        "price = results.params[0] + (500 * results.params[1]) + (3*results.params[2]) + (3* results.params[3]) + (1800 * results.params[4])\n",
        "print(price)"
      ],
      "metadata": {
        "id": "K0wGqPRFcdht",
        "colab": {
          "base_uri": "https://localhost:8080/"
        },
        "outputId": "33a790f4-14a4-453f-86da-00f6bd05c9b7"
      },
      "execution_count": null,
      "outputs": [
        {
          "output_type": "stream",
          "name": "stdout",
          "text": [
            "236170.4457180267\n"
          ]
        }
      ]
    },
    {
      "cell_type": "markdown",
      "source": [
        "My model predicts the SalePrice of a house to be $236,170.45 for a house with GaragaArea 500 sqft, 3 BedroomAbvGr, 3 FullBath, and 1800 sq ft.\n"
      ],
      "metadata": {
        "id": "KSX3ltIB57cu"
      }
    },
    {
      "cell_type": "markdown",
      "source": [
        "c."
      ],
      "metadata": {
        "id": "l_qktJq3od3e"
      }
    },
    {
      "cell_type": "code",
      "source": [
        "df['prediction']=results.predict(df)"
      ],
      "metadata": {
        "id": "VmVXWNldrrmn"
      },
      "execution_count": null,
      "outputs": []
    },
    {
      "cell_type": "code",
      "source": [
        "import matplotlib.pyplot as plt\n",
        "plt.scatter(df['SalePrice'], df['prediction'])\n",
        "plt.title(\"SalePrice vs Predicted SalePrice\")\n",
        "plt.xlabel('SalePrice') #x label\n",
        "plt.ylabel('Predicted SalePrice') #y label"
      ],
      "metadata": {
        "colab": {
          "base_uri": "https://localhost:8080/",
          "height": 312
        },
        "id": "N5xz7RVGrwGU",
        "outputId": "88bf92e9-4afb-4e3d-e52c-ed9d3148c5fc"
      },
      "execution_count": null,
      "outputs": [
        {
          "output_type": "execute_result",
          "data": {
            "text/plain": [
              "Text(0, 0.5, 'Predicted SalePrice')"
            ]
          },
          "metadata": {},
          "execution_count": 76
        },
        {
          "output_type": "display_data",
          "data": {
            "text/plain": [
              "<Figure size 432x288 with 1 Axes>"
            ],
            "image/png": "[encoded data removed]"
          },
          "metadata": {
            "needs_background": "light"
          }
        }
      ]
    },
    {
      "cell_type": "markdown",
      "source": [
        "A majority of the SalePrice vs Predicted SalePrice values are simialr. This is seen above where a cluster of the data is concentrated around\n",
        "\n",
        "```\n",
        "$100,000 - $300,000\n",
        "```\n",
        "However, a few outliers in the data do exist as seen above. The SalePrice in many instances seems to be much higher than the predicted SalePrice per home."
      ],
      "metadata": {
        "id": "aqnBoH1i6nXJ"
      }
    },
    {
      "cell_type": "markdown",
      "source": [
        "d."
      ],
      "metadata": {
        "id": "AkoPXdbIt2yg"
      }
    },
    {
      "cell_type": "code",
      "source": [
        "df['abserr'] = (((df['SalePrice'] - df['prediction']).abs())/(df['SalePrice']))"
      ],
      "metadata": {
        "id": "T8SmKuVxt3lz"
      },
      "execution_count": null,
      "outputs": []
    },
    {
      "cell_type": "code",
      "source": [
        "RL = df.loc[df.MSZoning =='RL']\n",
        "RH = df.loc[df.MSZoning =='RH']"
      ],
      "metadata": {
        "id": "yGxn3Bzuv55-"
      },
      "execution_count": null,
      "outputs": []
    },
    {
      "cell_type": "code",
      "source": [
        "RL[\"abserr\"].mean()"
      ],
      "metadata": {
        "colab": {
          "base_uri": "https://localhost:8080/"
        },
        "id": "-eKHyuHrwzCu",
        "outputId": "ed65e8e4-6a85-40f4-bd80-c0c9ad4c8132"
      },
      "execution_count": null,
      "outputs": [
        {
          "output_type": "execute_result",
          "data": {
            "text/plain": [
              "0.1720921153621819"
            ]
          },
          "metadata": {},
          "execution_count": 77
        }
      ]
    },
    {
      "cell_type": "code",
      "source": [
        "RH[\"abserr\"].mean()"
      ],
      "metadata": {
        "colab": {
          "base_uri": "https://localhost:8080/"
        },
        "id": "iQSNbpS7w6a_",
        "outputId": "65693ad2-c4d8-49c7-c414-1164cf4654b3"
      },
      "execution_count": null,
      "outputs": [
        {
          "output_type": "execute_result",
          "data": {
            "text/plain": [
              "0.28065738516018085"
            ]
          },
          "metadata": {},
          "execution_count": 78
        }
      ]
    },
    {
      "cell_type": "markdown",
      "source": [
        "The Mean of the Absolute Percent Error (MAPE) for houses in low density neighborhoods is 17%, whereas the MAPE for houses in high density neighborhoods is 28%. This means that in each neighborhood, the actual SalePrice vs the predicted SalePrice differs by 17% and 28% in these two different zones. From these two MAPE values, we can conclude that the model is not fair across these two groups. In high density neighborhoods, a price difference of 28% is much higher then a price difference of 17%. Therefore, in high density neighborhoods, the SalePrice is less accurate. This is primarily because of the lack of data that exists for high density neighborhoods comparitively to low density neighborhoods. In high density neighborhoods, individuals will be less likely to pay more than the lower, predicted SalePrice even if your home is worth exponentially more than this value."
      ],
      "metadata": {
        "id": "53ygzbdZ722t"
      }
    }
  ]
}