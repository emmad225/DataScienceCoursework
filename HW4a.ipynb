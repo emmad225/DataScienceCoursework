{
  "nbformat": 4,
  "nbformat_minor": 0,
  "metadata": {
    "colab": {
      "provenance": [],
      "include_colab_link": true
    },
    "kernelspec": {
      "name": "python3",
      "display_name": "Python 3"
    },
    "language_info": {
      "name": "python"
    }
  },
  "cells": [
    {
      "cell_type": "markdown",
      "metadata": {
        "id": "view-in-github",
        "colab_type": "text"
      },
      "source": [
        "<a href=\"https://colab.research.google.com/github/emmad225/DataScienceCoursework/blob/main/HW4a.ipynb\" target=\"_parent\"><img src=\"https://colab.research.google.com/assets/colab-badge.svg\" alt=\"Open In Colab\"/></a>"
      ]
    },
    {
      "cell_type": "markdown",
      "source": [
        "HW 4"
      ],
      "metadata": {
        "id": "8bPSb7GJI6xg"
      }
    },
    {
      "cell_type": "markdown",
      "source": [
        "1a. Import the data “chicago gun violence reports.csv” from canvas into python, which contains reports of batteries in Chicago involving a gun from 2016 to 2021. Calculate the total number of events ym in each police “Beat” m in the data. Which beat has the most events and how many does it contain?"
      ],
      "metadata": {
        "id": "G_zoy7PyJCpC"
      }
    },
    {
      "cell_type": "code",
      "execution_count": null,
      "metadata": {
        "colab": {
          "base_uri": "https://localhost:8080/"
        },
        "id": "08VzvIFcIk-3",
        "outputId": "80f4347f-640f-4a83-c223-468298fb7971"
      },
      "outputs": [
        {
          "output_type": "stream",
          "name": "stdout",
          "text": [
            "     Beat  Count\n",
            "129  1112    181\n",
            "116  1011    170\n",
            "139  1132    165\n",
            "178  1533    159\n",
            "140  1133    156\n",
            "..    ...    ...\n",
            "198  1811      1\n",
            "214  1921      1\n",
            "179  1611      1\n",
            "199  1812      1\n",
            "220  1932      1\n",
            "\n",
            "[266 rows x 2 columns]\n"
          ]
        }
      ],
      "source": [
        "import pandas as pd\n",
        "import numpy as np\n",
        "import math\n",
        "#266 unique beats\n",
        "\n",
        "data = pd.read_csv('chicago_gun_violence_reports.csv')\n",
        "\n",
        "array = np.array(data[\"Beat\"]).astype(int)\n",
        "datacount=data.groupby(['Beat']).size().reset_index(name='Count').sort_values(['Count'], ascending=False)\n",
        "print(datacount)"
      ]
    },
    {
      "cell_type": "markdown",
      "source": [
        "Results: From this analysis we can see that there are 266 different beats which correspond to various locations throughout the city. A beat can be interpreted as a singular large neighborhood that is policied by one or two officers. From the results, we can see here that beat \"1112\" has the most events of gun violence with 181. The second largest beat is 1011 with 170 gun violence events."
      ],
      "metadata": {
        "id": "qYc1AOK3vQqp"
      }
    },
    {
      "cell_type": "markdown",
      "source": [
        "1b. Next order the event counts ym in descending order and calculate the lorenz curve and gini index. Make a plot of the lorenz curve. What percent of events are captured in the top 10% of beats?"
      ],
      "metadata": {
        "id": "yjPz-Bav-XNo"
      }
    },
    {
      "cell_type": "code",
      "source": [
        "import matplotlib.pyplot as plt\n",
        "import numpy as np\n",
        "\n",
        "M = 266\n",
        "y = -np.sort(-np.reshape(datacount[\"Count\"],(266,)),)\n",
        "L=np.cumsum(y)/np.sum(y)\n",
        "l = []\n",
        "\n",
        "for k in range(M):\n",
        "    prob = k/M\n",
        "    l.append(prob)\n",
        "plt.plot(l,L)\n",
        "\n",
        "S = 0\n",
        "for m in range(M):\n",
        "  m1 = m + 1\n",
        "  S+=(M+1-m1) * y[m]\n",
        "\n",
        "denom = np.sum(y)\n",
        "\n",
        "G = 1/M * (2*(S/denom) - M - 1)\n",
        "print(\"Gini Coefficent:\", G)"
      ],
      "metadata": {
        "colab": {
          "base_uri": "https://localhost:8080/",
          "height": 282
        },
        "id": "Tfxwshag-Wb0",
        "outputId": "53abe9fb-f0ff-46bd-8a0a-2162a07f720a"
      },
      "execution_count": null,
      "outputs": [
        {
          "output_type": "stream",
          "name": "stdout",
          "text": [
            "Gini Coefficent: 0.46146274430680106\n"
          ]
        },
        {
          "output_type": "display_data",
          "data": {
            "text/plain": [
              "<Figure size 432x288 with 1 Axes>"
            ],
            "image/png": "[encoded data removed]"
          },
          "metadata": {
            "needs_background": "light"
          }
        }
      ]
    },
    {
      "cell_type": "code",
      "source": [
        "location = data.groupby(['Beat']).agg({'Latitude':np.mean, 'Longitude':np.mean}).reset_index()\n",
        "datamerge = pd.merge(datacount, location, on = 'Beat')\n",
        "ten = datamerge.head(26)\n",
        "\n",
        "print(ten)\n",
        "\n",
        "sum = np.sum(ten['Count'])\n",
        "sum1 = np.sum(datacount['Count'])\n",
        "print(\"Percent of events are captured in the top 10% of events:\", sum/sum1 * 100, \"%\")\n"
      ],
      "metadata": {
        "colab": {
          "base_uri": "https://localhost:8080/"
        },
        "id": "siWqBa3_vBs8",
        "outputId": "d5785493-16b7-4619-a155-08a2ce085322"
      },
      "execution_count": null,
      "outputs": [
        {
          "output_type": "stream",
          "name": "stdout",
          "text": [
            "    Beat  Count   Latitude  Longitude\n",
            "0   1112    181  41.898075 -87.720862\n",
            "1   1011    170  41.864233 -87.722000\n",
            "2   1132    165  41.872233 -87.726165\n",
            "3   1533    159  41.877640 -87.749368\n",
            "4   1133    156  41.872131 -87.717090\n",
            "5    511    147  41.712881 -87.620461\n",
            "6   1522    139  41.876765 -87.758982\n",
            "7   1121    136  41.895533 -87.711875\n",
            "8   1532    128  41.887875 -87.750323\n",
            "9    832    120  41.768760 -87.684113\n",
            "10  1131    118  41.874039 -87.738441\n",
            "11  1122    116  41.884647 -87.722230\n",
            "12  1113    113  41.880744 -87.739460\n",
            "13   523    111  41.669324 -87.634806\n",
            "14   522    109  41.684174 -87.628804\n",
            "15  1531    108  41.897134 -87.750734\n",
            "16  1123    106  41.883279 -87.710523\n",
            "17  1021    105  41.860671 -87.711653\n",
            "18  1524    102  41.896995 -87.760378\n",
            "19   624    102  41.752850 -87.606128\n",
            "20  1134    101  41.871664 -87.705519\n",
            "21  1135    101  41.870805 -87.696152\n",
            "22   533    100  41.655258 -87.606784\n",
            "23   712    100  41.787534 -87.650481\n",
            "24   613     99  41.741526 -87.650930\n",
            "25   621     99  41.752911 -87.642236\n",
            "Percent of events are captured in the top 10% of events: 27.012613222720734 %\n"
          ]
        }
      ]
    },
    {
      "cell_type": "markdown",
      "source": [
        "RESULTS: In this problem, we first began by creating the Lorenz curve of our data, as well as calculating the Gini coefficient. The curve was created by first sorting our data set of \"Beats\" and calculating L which was the cumulative sum of the sorted data divided by the sum. We then used the equation for the Gini coefficent which was assigned and printed as G. In this example, our Gini coefficient was roughly 0.46. Next, we incorperated the longitude and latitude data, along with the beats and their counts on the same visual plane. The count is sorted by ascending order and their longitude and latitude values are as follows. The indicies from 0-25 present the data for the top 10% of beats. Through minimal calculations, it was found that approximately 27% of events are captured in the top 10% of beats."
      ],
      "metadata": {
        "id": "13nnpQe22qTK"
      }
    },
    {
      "cell_type": "markdown",
      "source": [
        "1c. Create a hotspot map of the top 10% of beats with the most reported batteries involving a gun. Place a circle marker at the center of each beat (as defined by the average or median of the incident locations in the beat) and make the size of the marker proportional to the number of incidents. You can use plotly and mapbox to place these markers on the map."
      ],
      "metadata": {
        "id": "xB4O-DmD5DwV"
      }
    },
    {
      "cell_type": "code",
      "source": [
        "#plot points on a map\n",
        "import plotly.express as px\n",
        "px.set_mapbox_access_token(\"pk.eyJ1IjoiZW1tYWQyMjUiLCJhIjoiY2w4eDdvOGFwMDN1dDNubWZkNDJyMjRwcyJ9.hSvOLyyWzC8lBRIY-Q0Y3Q\")\n",
        "fig = px.scatter_mapbox(ten, lat=\"Latitude\", lon=\"Longitude\",\n",
        "                  color_continuous_scale=px.colors.cyclical.IceFire, size_max=15, zoom=10, size = 'Count')\n",
        "fig.show()"
      ],
      "metadata": {
        "colab": {
          "base_uri": "https://localhost:8080/",
          "height": 542
        },
        "id": "dqLH2k6Z5JcZ",
        "outputId": "fbf1acc2-954c-4c12-d926-696a785df74d"
      },
      "execution_count": null,
      "outputs": [
        {
          "output_type": "display_data",
          "data": {
            "text/html": [
              "<html>\n",
              "<head><meta charset=\"utf-8\" /></head>\n",
              "<body>\n",
              "    <div>            <script src=\"https://cdnjs.cloudflare.com/ajax/libs/mathjax/2.7.5/MathJax.js?config=TeX-AMS-MML_SVG\"></script><script type=\"text/javascript\">if (window.MathJax) {MathJax.Hub.Config({SVG: {font: \"STIX-Web\"}});}</script>                <script type=\"text/javascript\">window.PlotlyConfig = {MathJaxConfig: 'local'};</script>\n",
              "        <script src=\"https://cdn.plot.ly/plotly-2.8.3.min.js\"></script>                <div id=\"53a83661-c815-48c0-8e26-b31352b1b0fd\" class=\"plotly-graph-div\" style=\"height:525px; width:100%;\"></div>            <script type=\"text/javascript\">                                    window.PLOTLYENV=window.PLOTLYENV || {};                                    if (document.getElementById(\"53a83661-c815-48c0-8e26-b31352b1b0fd\")) {                    Plotly.newPlot(                        \"53a83661-c815-48c0-8e26-b31352b1b0fd\",                        [{\"hovertemplate\":\"Count=%{marker.size}<br>Latitude=%{lat}<br>Longitude=%{lon}<extra></extra>\",\"lat\":[41.89807485646961,41.86423263007647,41.87223285224849,41.87764008069182,41.872130969089746,41.71288079962585,41.87676488260432,41.8955329153603,41.887874783617185,41.76876047270833,41.874038561559324,41.88464709402586,41.880744116070794,41.66932421363964,41.684174037266054,41.89713415846296,41.88327851172642,41.86067081264762,41.89699520923529,41.752849880117644,41.871663869168316,41.87080493812871,41.6552582377,41.78753363193999,41.7415264269293,41.75291142331313],\"legendgroup\":\"\",\"lon\":[-87.72086221993924,-87.72200018495293,-87.72616492198182,-87.74936804047799,-87.71708988223077,-87.62046147065307,-87.75898165287771,-87.71187539745587,-87.75032296059375,-87.6841131769,-87.73844141517797,-87.7222301799138,-87.73946007815928,-87.63480579862163,-87.62880397189907,-87.75073369992593,-87.71052311125473,-87.71165264639048,-87.7603779257353,-87.60612816937255,-87.70551871205942,-87.69615189007922,-87.60678379896001,-87.65048122411001,-87.65092968889898,-87.6422363050505],\"marker\":{\"color\":\"#636efa\",\"size\":[181,170,165,159,156,147,139,136,128,120,118,116,113,111,109,108,106,105,102,102,101,101,100,100,99,99],\"sizemode\":\"area\",\"sizeref\":0.8044444444444444},\"mode\":\"markers\",\"name\":\"\",\"showlegend\":false,\"subplot\":\"mapbox\",\"type\":\"scattermapbox\"}],                        {\"template\":{\"data\":{\"bar\":[{\"error_x\":{\"color\":\"#2a3f5f\"},\"error_y\":{\"color\":\"#2a3f5f\"},\"marker\":{\"line\":{\"color\":\"#E5ECF6\",\"width\":0.5},\"pattern\":{\"fillmode\":\"overlay\",\"size\":10,\"solidity\":0.2}},\"type\":\"bar\"}],\"barpolar\":[{\"marker\":{\"line\":{\"color\":\"#E5ECF6\",\"width\":0.5},\"pattern\":{\"fillmode\":\"overlay\",\"size\":10,\"solidity\":0.2}},\"type\":\"barpolar\"}],\"carpet\":[{\"aaxis\":{\"endlinecolor\":\"#2a3f5f\",\"gridcolor\":\"white\",\"linecolor\":\"white\",\"minorgridcolor\":\"white\",\"startlinecolor\":\"#2a3f5f\"},\"baxis\":{\"endlinecolor\":\"#2a3f5f\",\"gridcolor\":\"white\",\"linecolor\":\"white\",\"minorgridcolor\":\"white\",\"startlinecolor\":\"#2a3f5f\"},\"type\":\"carpet\"}],\"choropleth\":[{\"colorbar\":{\"outlinewidth\":0,\"ticks\":\"\"},\"type\":\"choropleth\"}],\"contour\":[{\"colorbar\":{\"outlinewidth\":0,\"ticks\":\"\"},\"colorscale\":[[0.0,\"#0d0887\"],[0.1111111111111111,\"#46039f\"],[0.2222222222222222,\"#7201a8\"],[0.3333333333333333,\"#9c179e\"],[0.4444444444444444,\"#bd3786\"],[0.5555555555555556,\"#d8576b\"],[0.6666666666666666,\"#ed7953\"],[0.7777777777777778,\"#fb9f3a\"],[0.8888888888888888,\"#fdca26\"],[1.0,\"#f0f921\"]],\"type\":\"contour\"}],\"contourcarpet\":[{\"colorbar\":{\"outlinewidth\":0,\"ticks\":\"\"},\"type\":\"contourcarpet\"}],\"heatmap\":[{\"colorbar\":{\"outlinewidth\":0,\"ticks\":\"\"},\"colorscale\":[[0.0,\"#0d0887\"],[0.1111111111111111,\"#46039f\"],[0.2222222222222222,\"#7201a8\"],[0.3333333333333333,\"#9c179e\"],[0.4444444444444444,\"#bd3786\"],[0.5555555555555556,\"#d8576b\"],[0.6666666666666666,\"#ed7953\"],[0.7777777777777778,\"#fb9f3a\"],[0.8888888888888888,\"#fdca26\"],[1.0,\"#f0f921\"]],\"type\":\"heatmap\"}],\"heatmapgl\":[{\"colorbar\":{\"outlinewidth\":0,\"ticks\":\"\"},\"colorscale\":[[0.0,\"#0d0887\"],[0.1111111111111111,\"#46039f\"],[0.2222222222222222,\"#7201a8\"],[0.3333333333333333,\"#9c179e\"],[0.4444444444444444,\"#bd3786\"],[0.5555555555555556,\"#d8576b\"],[0.6666666666666666,\"#ed7953\"],[0.7777777777777778,\"#fb9f3a\"],[0.8888888888888888,\"#fdca26\"],[1.0,\"#f0f921\"]],\"type\":\"heatmapgl\"}],\"histogram\":[{\"marker\":{\"pattern\":{\"fillmode\":\"overlay\",\"size\":10,\"solidity\":0.2}},\"type\":\"histogram\"}],\"histogram2d\":[{\"colorbar\":{\"outlinewidth\":0,\"ticks\":\"\"},\"colorscale\":[[0.0,\"#0d0887\"],[0.1111111111111111,\"#46039f\"],[0.2222222222222222,\"#7201a8\"],[0.3333333333333333,\"#9c179e\"],[0.4444444444444444,\"#bd3786\"],[0.5555555555555556,\"#d8576b\"],[0.6666666666666666,\"#ed7953\"],[0.7777777777777778,\"#fb9f3a\"],[0.8888888888888888,\"#fdca26\"],[1.0,\"#f0f921\"]],\"type\":\"histogram2d\"}],\"histogram2dcontour\":[{\"colorbar\":{\"outlinewidth\":0,\"ticks\":\"\"},\"colorscale\":[[0.0,\"#0d0887\"],[0.1111111111111111,\"#46039f\"],[0.2222222222222222,\"#7201a8\"],[0.3333333333333333,\"#9c179e\"],[0.4444444444444444,\"#bd3786\"],[0.5555555555555556,\"#d8576b\"],[0.6666666666666666,\"#ed7953\"],[0.7777777777777778,\"#fb9f3a\"],[0.8888888888888888,\"#fdca26\"],[1.0,\"#f0f921\"]],\"type\":\"histogram2dcontour\"}],\"mesh3d\":[{\"colorbar\":{\"outlinewidth\":0,\"ticks\":\"\"},\"type\":\"mesh3d\"}],\"parcoords\":[{\"line\":{\"colorbar\":{\"outlinewidth\":0,\"ticks\":\"\"}},\"type\":\"parcoords\"}],\"pie\":[{\"automargin\":true,\"type\":\"pie\"}],\"scatter\":[{\"marker\":{\"colorbar\":{\"outlinewidth\":0,\"ticks\":\"\"}},\"type\":\"scatter\"}],\"scatter3d\":[{\"line\":{\"colorbar\":{\"outlinewidth\":0,\"ticks\":\"\"}},\"marker\":{\"colorbar\":{\"outlinewidth\":0,\"ticks\":\"\"}},\"type\":\"scatter3d\"}],\"scattercarpet\":[{\"marker\":{\"colorbar\":{\"outlinewidth\":0,\"ticks\":\"\"}},\"type\":\"scattercarpet\"}],\"scattergeo\":[{\"marker\":{\"colorbar\":{\"outlinewidth\":0,\"ticks\":\"\"}},\"type\":\"scattergeo\"}],\"scattergl\":[{\"marker\":{\"colorbar\":{\"outlinewidth\":0,\"ticks\":\"\"}},\"type\":\"scattergl\"}],\"scattermapbox\":[{\"marker\":{\"colorbar\":{\"outlinewidth\":0,\"ticks\":\"\"}},\"type\":\"scattermapbox\"}],\"scatterpolar\":[{\"marker\":{\"colorbar\":{\"outlinewidth\":0,\"ticks\":\"\"}},\"type\":\"scatterpolar\"}],\"scatterpolargl\":[{\"marker\":{\"colorbar\":{\"outlinewidth\":0,\"ticks\":\"\"}},\"type\":\"scatterpolargl\"}],\"scatterternary\":[{\"marker\":{\"colorbar\":{\"outlinewidth\":0,\"ticks\":\"\"}},\"type\":\"scatterternary\"}],\"surface\":[{\"colorbar\":{\"outlinewidth\":0,\"ticks\":\"\"},\"colorscale\":[[0.0,\"#0d0887\"],[0.1111111111111111,\"#46039f\"],[0.2222222222222222,\"#7201a8\"],[0.3333333333333333,\"#9c179e\"],[0.4444444444444444,\"#bd3786\"],[0.5555555555555556,\"#d8576b\"],[0.6666666666666666,\"#ed7953\"],[0.7777777777777778,\"#fb9f3a\"],[0.8888888888888888,\"#fdca26\"],[1.0,\"#f0f921\"]],\"type\":\"surface\"}],\"table\":[{\"cells\":{\"fill\":{\"color\":\"#EBF0F8\"},\"line\":{\"color\":\"white\"}},\"header\":{\"fill\":{\"color\":\"#C8D4E3\"},\"line\":{\"color\":\"white\"}},\"type\":\"table\"}]},\"layout\":{\"annotationdefaults\":{\"arrowcolor\":\"#2a3f5f\",\"arrowhead\":0,\"arrowwidth\":1},\"autotypenumbers\":\"strict\",\"coloraxis\":{\"colorbar\":{\"outlinewidth\":0,\"ticks\":\"\"}},\"colorscale\":{\"diverging\":[[0,\"#8e0152\"],[0.1,\"#c51b7d\"],[0.2,\"#de77ae\"],[0.3,\"#f1b6da\"],[0.4,\"#fde0ef\"],[0.5,\"#f7f7f7\"],[0.6,\"#e6f5d0\"],[0.7,\"#b8e186\"],[0.8,\"#7fbc41\"],[0.9,\"#4d9221\"],[1,\"#276419\"]],\"sequential\":[[0.0,\"#0d0887\"],[0.1111111111111111,\"#46039f\"],[0.2222222222222222,\"#7201a8\"],[0.3333333333333333,\"#9c179e\"],[0.4444444444444444,\"#bd3786\"],[0.5555555555555556,\"#d8576b\"],[0.6666666666666666,\"#ed7953\"],[0.7777777777777778,\"#fb9f3a\"],[0.8888888888888888,\"#fdca26\"],[1.0,\"#f0f921\"]],\"sequentialminus\":[[0.0,\"#0d0887\"],[0.1111111111111111,\"#46039f\"],[0.2222222222222222,\"#7201a8\"],[0.3333333333333333,\"#9c179e\"],[0.4444444444444444,\"#bd3786\"],[0.5555555555555556,\"#d8576b\"],[0.6666666666666666,\"#ed7953\"],[0.7777777777777778,\"#fb9f3a\"],[0.8888888888888888,\"#fdca26\"],[1.0,\"#f0f921\"]]},\"colorway\":[\"#636efa\",\"#EF553B\",\"#00cc96\",\"#ab63fa\",\"#FFA15A\",\"#19d3f3\",\"#FF6692\",\"#B6E880\",\"#FF97FF\",\"#FECB52\"],\"font\":{\"color\":\"#2a3f5f\"},\"geo\":{\"bgcolor\":\"white\",\"lakecolor\":\"white\",\"landcolor\":\"#E5ECF6\",\"showlakes\":true,\"showland\":true,\"subunitcolor\":\"white\"},\"hoverlabel\":{\"align\":\"left\"},\"hovermode\":\"closest\",\"mapbox\":{\"style\":\"light\"},\"paper_bgcolor\":\"white\",\"plot_bgcolor\":\"#E5ECF6\",\"polar\":{\"angularaxis\":{\"gridcolor\":\"white\",\"linecolor\":\"white\",\"ticks\":\"\"},\"bgcolor\":\"#E5ECF6\",\"radialaxis\":{\"gridcolor\":\"white\",\"linecolor\":\"white\",\"ticks\":\"\"}},\"scene\":{\"xaxis\":{\"backgroundcolor\":\"#E5ECF6\",\"gridcolor\":\"white\",\"gridwidth\":2,\"linecolor\":\"white\",\"showbackground\":true,\"ticks\":\"\",\"zerolinecolor\":\"white\"},\"yaxis\":{\"backgroundcolor\":\"#E5ECF6\",\"gridcolor\":\"white\",\"gridwidth\":2,\"linecolor\":\"white\",\"showbackground\":true,\"ticks\":\"\",\"zerolinecolor\":\"white\"},\"zaxis\":{\"backgroundcolor\":\"#E5ECF6\",\"gridcolor\":\"white\",\"gridwidth\":2,\"linecolor\":\"white\",\"showbackground\":true,\"ticks\":\"\",\"zerolinecolor\":\"white\"}},\"shapedefaults\":{\"line\":{\"color\":\"#2a3f5f\"}},\"ternary\":{\"aaxis\":{\"gridcolor\":\"white\",\"linecolor\":\"white\",\"ticks\":\"\"},\"baxis\":{\"gridcolor\":\"white\",\"linecolor\":\"white\",\"ticks\":\"\"},\"bgcolor\":\"#E5ECF6\",\"caxis\":{\"gridcolor\":\"white\",\"linecolor\":\"white\",\"ticks\":\"\"}},\"title\":{\"x\":0.05},\"xaxis\":{\"automargin\":true,\"gridcolor\":\"white\",\"linecolor\":\"white\",\"ticks\":\"\",\"title\":{\"standoff\":15},\"zerolinecolor\":\"white\",\"zerolinewidth\":2},\"yaxis\":{\"automargin\":true,\"gridcolor\":\"white\",\"linecolor\":\"white\",\"ticks\":\"\",\"title\":{\"standoff\":15},\"zerolinecolor\":\"white\",\"zerolinewidth\":2}}},\"mapbox\":{\"domain\":{\"x\":[0.0,1.0],\"y\":[0.0,1.0]},\"center\":{\"lat\":41.82652616786243,\"lon\":-87.69678840475662},\"accesstoken\":\"pk.eyJ1IjoiZW1tYWQyMjUiLCJhIjoiY2w4eDdvOGFwMDN1dDNubWZkNDJyMjRwcyJ9.hSvOLyyWzC8lBRIY-Q0Y3Q\",\"zoom\":10},\"legend\":{\"tracegroupgap\":0,\"itemsizing\":\"constant\"},\"margin\":{\"t\":60}},                        {\"responsive\": true}                    ).then(function(){\n",
              "                            \n",
              "var gd = document.getElementById('53a83661-c815-48c0-8e26-b31352b1b0fd');\n",
              "var x = new MutationObserver(function (mutations, observer) {{\n",
              "        var display = window.getComputedStyle(gd).display;\n",
              "        if (!display || display === 'none') {{\n",
              "            console.log([gd, 'removed!']);\n",
              "            Plotly.purge(gd);\n",
              "            observer.disconnect();\n",
              "        }}\n",
              "}});\n",
              "\n",
              "// Listen for the removal of the full notebook cells\n",
              "var notebookContainer = gd.closest('#notebook-container');\n",
              "if (notebookContainer) {{\n",
              "    x.observe(notebookContainer, {childList: true});\n",
              "}}\n",
              "\n",
              "// Listen for the clearing of the current output cell\n",
              "var outputEl = gd.closest('.output');\n",
              "if (outputEl) {{\n",
              "    x.observe(outputEl, {childList: true});\n",
              "}}\n",
              "\n",
              "                        })                };                            </script>        </div>\n",
              "</body>\n",
              "</html>"
            ]
          },
          "metadata": {}
        }
      ]
    },
    {
      "cell_type": "markdown",
      "source": [
        "RESULTS: This is a visual of the data in question 1b. This uses the data and plots the top 10% of beats on a map and the precise location of where these incidents occured. The larger circles represent a higher frequency of crimes. This map indicates hotspots with the highest crime frequencies in and around Chicago that contribute to the top 10% of neighborhood locations."
      ],
      "metadata": {
        "id": "oBvwWTvn5edj"
      }
    }
  ]
}