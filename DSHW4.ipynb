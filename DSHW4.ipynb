{
  "nbformat": 4,
  "nbformat_minor": 0,
  "metadata": {
    "colab": {
      "provenance": [],
      "include_colab_link": true
    },
    "kernelspec": {
      "name": "python3",
      "display_name": "Python 3"
    },
    "language_info": {
      "name": "python"
    }
  },
  "cells": [
    {
      "cell_type": "markdown",
      "metadata": {
        "id": "view-in-github",
        "colab_type": "text"
      },
      "source": [
        "<a href=\"https://colab.research.google.com/github/emmad225/DataScienceCoursework/blob/main/DSHW4.ipynb\" target=\"_parent\"><img src=\"https://colab.research.google.com/assets/colab-badge.svg\" alt=\"Open In Colab\"/></a>"
      ]
    },
    {
      "cell_type": "code",
      "execution_count": null,
      "metadata": {
        "id": "rl0QHj_GyOIu"
      },
      "outputs": [],
      "source": [
        "import pandas as pd\n",
        "import statsmodels.api as sm\n",
        "import numpy as np\n",
        "import statsmodels.formula.api as smf"
      ]
    },
    {
      "cell_type": "markdown",
      "source": [
        "#1."
      ],
      "metadata": {
        "id": "tKfMCnqxyWXW"
      }
    },
    {
      "cell_type": "code",
      "source": [
        "df = pd.read_csv('lending_club_data.csv')"
      ],
      "metadata": {
        "id": "cN92vJr3yVVb"
      },
      "execution_count": null,
      "outputs": []
    },
    {
      "cell_type": "code",
      "source": [
        "data = df[(df.home_ownership =='RENT') | (df.home_ownership == 'OWN') | (df.home_ownership == 'MORTGAGE')].copy()"
      ],
      "metadata": {
        "id": "JhOW271watCI"
      },
      "execution_count": null,
      "outputs": []
    },
    {
      "cell_type": "code",
      "source": [
        "f = 'default ~ funded_amnt + home_ownership + annual_inc + int_rate'\n",
        "logitfit = smf.logit(formula = str(f), data = data).fit()\n",
        "logitfit.summary()"
      ],
      "metadata": {
        "colab": {
          "base_uri": "https://localhost:8080/",
          "height": 384
        },
        "id": "LTVMCppNfn3x",
        "outputId": "619162b3-aa42-4a01-cfcb-24a124d8c2b5"
      },
      "execution_count": null,
      "outputs": [
        {
          "output_type": "stream",
          "name": "stdout",
          "text": [
            "Optimization terminated successfully.\n",
            "         Current function value: 0.370605\n",
            "         Iterations 7\n"
          ]
        },
        {
          "output_type": "execute_result",
          "data": {
            "text/plain": [
              "<class 'statsmodels.iolib.summary.Summary'>\n",
              "\"\"\"\n",
              "                           Logit Regression Results                           \n",
              "==============================================================================\n",
              "Dep. Variable:                default   No. Observations:               335382\n",
              "Model:                          Logit   Df Residuals:                   335376\n",
              "Method:                           MLE   Df Model:                            5\n",
              "Date:                Fri, 10 Feb 2023   Pseudo R-squ.:                 0.04355\n",
              "Time:                        02:54:33   Log-Likelihood:            -1.2429e+05\n",
              "converged:                       True   LL-Null:                   -1.2995e+05\n",
              "Covariance Type:            nonrobust   LLR p-value:                     0.000\n",
              "==========================================================================================\n",
              "                             coef    std err          z      P>|z|      [0.025      0.975]\n",
              "------------------------------------------------------------------------------------------\n",
              "Intercept                 -3.4253      0.024   -142.467      0.000      -3.472      -3.378\n",
              "home_ownership[T.OWN]      0.1069      0.019      5.665      0.000       0.070       0.144\n",
              "home_ownership[T.RENT]     0.2000      0.011     17.471      0.000       0.178       0.222\n",
              "funded_amnt             1.236e-05   7.98e-07     15.494      0.000    1.08e-05    1.39e-05\n",
              "annual_inc             -5.098e-06   1.71e-07    -29.781      0.000   -5.43e-06   -4.76e-06\n",
              "int_rate                   0.1210      0.001     90.552      0.000       0.118       0.124\n",
              "==========================================================================================\n",
              "\"\"\""
            ],
            "text/html": [
              "<table class=\"simpletable\">\n",
              "<caption>Logit Regression Results</caption>\n",
              "<tr>\n",
              "  <th>Dep. Variable:</th>        <td>default</td>     <th>  No. Observations:  </th>   <td>335382</td>   \n",
              "</tr>\n",
              "<tr>\n",
              "  <th>Model:</th>                 <td>Logit</td>      <th>  Df Residuals:      </th>   <td>335376</td>   \n",
              "</tr>\n",
              "<tr>\n",
              "  <th>Method:</th>                 <td>MLE</td>       <th>  Df Model:          </th>   <td>     5</td>   \n",
              "</tr>\n",
              "<tr>\n",
              "  <th>Date:</th>            <td>Fri, 10 Feb 2023</td> <th>  Pseudo R-squ.:     </th>   <td>0.04355</td>  \n",
              "</tr>\n",
              "<tr>\n",
              "  <th>Time:</th>                <td>02:54:33</td>     <th>  Log-Likelihood:    </th> <td>-1.2429e+05</td>\n",
              "</tr>\n",
              "<tr>\n",
              "  <th>converged:</th>             <td>True</td>       <th>  LL-Null:           </th> <td>-1.2995e+05</td>\n",
              "</tr>\n",
              "<tr>\n",
              "  <th>Covariance Type:</th>     <td>nonrobust</td>    <th>  LLR p-value:       </th>   <td> 0.000</td>   \n",
              "</tr>\n",
              "</table>\n",
              "<table class=\"simpletable\">\n",
              "<tr>\n",
              "             <td></td>               <th>coef</th>     <th>std err</th>      <th>z</th>      <th>P>|z|</th>  <th>[0.025</th>    <th>0.975]</th>  \n",
              "</tr>\n",
              "<tr>\n",
              "  <th>Intercept</th>              <td>   -3.4253</td> <td>    0.024</td> <td> -142.467</td> <td> 0.000</td> <td>   -3.472</td> <td>   -3.378</td>\n",
              "</tr>\n",
              "<tr>\n",
              "  <th>home_ownership[T.OWN]</th>  <td>    0.1069</td> <td>    0.019</td> <td>    5.665</td> <td> 0.000</td> <td>    0.070</td> <td>    0.144</td>\n",
              "</tr>\n",
              "<tr>\n",
              "  <th>home_ownership[T.RENT]</th> <td>    0.2000</td> <td>    0.011</td> <td>   17.471</td> <td> 0.000</td> <td>    0.178</td> <td>    0.222</td>\n",
              "</tr>\n",
              "<tr>\n",
              "  <th>funded_amnt</th>            <td> 1.236e-05</td> <td> 7.98e-07</td> <td>   15.494</td> <td> 0.000</td> <td> 1.08e-05</td> <td> 1.39e-05</td>\n",
              "</tr>\n",
              "<tr>\n",
              "  <th>annual_inc</th>             <td>-5.098e-06</td> <td> 1.71e-07</td> <td>  -29.781</td> <td> 0.000</td> <td>-5.43e-06</td> <td>-4.76e-06</td>\n",
              "</tr>\n",
              "<tr>\n",
              "  <th>int_rate</th>               <td>    0.1210</td> <td>    0.001</td> <td>   90.552</td> <td> 0.000</td> <td>    0.118</td> <td>    0.124</td>\n",
              "</tr>\n",
              "</table>"
            ]
          },
          "metadata": {},
          "execution_count": 4
        }
      ]
    },
    {
      "cell_type": "code",
      "source": [
        "print(np.exp(0.2000))"
      ],
      "metadata": {
        "colab": {
          "base_uri": "https://localhost:8080/"
        },
        "id": "jbBL7COWhwN1",
        "outputId": "58095c92-8c7a-467c-b0db-f5df8705169f"
      },
      "execution_count": null,
      "outputs": [
        {
          "output_type": "stream",
          "name": "stdout",
          "text": [
            "1.2214027581601699\n"
          ]
        }
      ]
    },
    {
      "cell_type": "markdown",
      "source": [
        "The odd ratio of default for those who rent vs those who hold a mortgage is 1.22. This means that the default for renting is approximately 22% more likey to occur than default with a mortgage."
      ],
      "metadata": {
        "id": "K3r5EfriVrLj"
      }
    },
    {
      "cell_type": "code",
      "source": [
        "predict = data['predict'] = logitfit.predict(data)"
      ],
      "metadata": {
        "id": "j_BvWLksih51"
      },
      "execution_count": null,
      "outputs": []
    },
    {
      "cell_type": "code",
      "source": [
        "import matplotlib.pyplot as plt\n",
        "plt.hist(data['predict'])\n",
        "plt.title('Predictions')\n",
        "plt.xlabel('Probability of Default')\n",
        "plt.ylabel('Predicted Frequency')"
      ],
      "metadata": {
        "colab": {
          "base_uri": "https://localhost:8080/",
          "height": 313
        },
        "id": "Ht29VYlGjkDK",
        "outputId": "029ac359-10c4-4c6e-f5b5-89a6bdbe7697"
      },
      "execution_count": null,
      "outputs": [
        {
          "output_type": "execute_result",
          "data": {
            "text/plain": [
              "Text(0, 0.5, 'Predicted Frequency')"
            ]
          },
          "metadata": {},
          "execution_count": 21
        },
        {
          "output_type": "display_data",
          "data": {
            "text/plain": [
              "<Figure size 432x288 with 1 Axes>"
            ],
            "image/png": "[encoded data removed]"
          },
          "metadata": {
            "needs_background": "light"
          }
        }
      ]
    },
    {
      "cell_type": "markdown",
      "source": [
        "This graph shows that the predictions lie most frequently between 0.05 and 0.2. This means that  most of the people in the dataset have a probability of default between 0.05 and 0.2.\n"
      ],
      "metadata": {
        "id": "Ue4sI1iOWa9L"
      }
    },
    {
      "cell_type": "code",
      "source": [
        "round_pred = data['predict'].astype(float)\n",
        "new_pred = round_pred*10\n",
        "ceil_pred = np.ceil(new_pred)\n",
        "div_pred = ceil_pred/10\n",
        "rounded_column = data['rounded'] = div_pred\n",
        "print(rounded_column)"
      ],
      "metadata": {
        "colab": {
          "base_uri": "https://localhost:8080/"
        },
        "id": "2lzDSFeQ0zif",
        "outputId": "d42bc692-1058-49d3-ac5b-7ffeca6344ef"
      },
      "execution_count": null,
      "outputs": [
        {
          "output_type": "stream",
          "name": "stdout",
          "text": [
            "0         0.1\n",
            "1         0.1\n",
            "2         0.2\n",
            "3         0.1\n",
            "4         0.1\n",
            "         ... \n",
            "335553    0.1\n",
            "335554    0.2\n",
            "335555    0.1\n",
            "335556    0.1\n",
            "335557    0.2\n",
            "Name: predict, Length: 335382, dtype: float64\n"
          ]
        }
      ]
    },
    {
      "cell_type": "code",
      "source": [
        "data.groupby('rounded')['default'].mean()"
      ],
      "metadata": {
        "colab": {
          "base_uri": "https://localhost:8080/"
        },
        "id": "3IibIB4C5OMe",
        "outputId": "6add82d6-2b60-4c9a-a6e1-413c9e613265"
      },
      "execution_count": null,
      "outputs": [
        {
          "output_type": "execute_result",
          "data": {
            "text/plain": [
              "rounded\n",
              "0.1    0.067064\n",
              "0.2    0.148080\n",
              "0.3    0.231805\n",
              "0.4    0.281404\n",
              "0.5    0.356532\n",
              "Name: default, dtype: float64"
            ]
          },
          "metadata": {},
          "execution_count": 23
        }
      ]
    },
    {
      "cell_type": "markdown",
      "source": [
        "Yes, the default risk increases across the groups meaning that for each increasing group of loan risk, the average risk of default also increases."
      ],
      "metadata": {
        "id": "KTYV3PtZgJoY"
      }
    },
    {
      "cell_type": "code",
      "source": [
        "# check accuracy and confusion matrix\n",
        "import sklearn.metrics\n",
        "import matplotlib.pyplot as plt\n",
        "\n",
        "# predict default when thres > 0.2\n",
        "data['thresh']=np.where(data['predict'] > .2, 1.0, 0.0)\n",
        "\n",
        "# accuracy and confusion matrix\n",
        "print(sklearn.metrics.accuracy_score(data['default'], data['thresh']))\n",
        "cm=sklearn.metrics.confusion_matrix(data['default'], data['thresh'])\n",
        "disp = sklearn.metrics.ConfusionMatrixDisplay(confusion_matrix=cm)\n",
        "disp.plot()\n",
        "plt.show()"
      ],
      "metadata": {
        "colab": {
          "base_uri": "https://localhost:8080/",
          "height": 297
        },
        "id": "uR8dz6Di6WNu",
        "outputId": "68490cd0-e16a-4bb9-ea4c-bed9494ac32c"
      },
      "execution_count": null,
      "outputs": [
        {
          "output_type": "stream",
          "name": "stdout",
          "text": [
            "0.8014532682135594\n"
          ]
        },
        {
          "output_type": "display_data",
          "data": {
            "text/plain": [
              "<Figure size 432x288 with 2 Axes>"
            ],
            "image/png": "[encoded data removed]"
          },
          "metadata": {
            "needs_background": "light"
          }
        }
      ]
    },
    {
      "cell_type": "markdown",
      "source": [
        "With the threshold for granting a loan of 0.2, the following matrix can be created. The classificiation accuracy of the model is approximately 80%. This is relatively high and is a good representation of the data. Additionally, this matrix provides us with information of the amount of loans denied that would have been paid back (false positives), as well as false negatives, true positives, and true negatives. The right column represents loans that were denied (top being ones that would have been paid back, bottom representing those that wouldn't have been paid). The amount of cases that fall into the false positive category are 33365, resulting in an approximate 11% of loans that were denied that would have been paid back. The calculations are as follows:\n",
        "\n",
        "\n",
        "*   33365/(258224+33365)\n",
        "*   33365/291,589\n",
        "*   11.4%\n",
        "\n",
        "\n",
        "This rate represents the amount of loans that were denied to individuals that would have been paid back had they been granted one."
      ],
      "metadata": {
        "id": "v_SVii5X-VTW"
      }
    }
  ]
}