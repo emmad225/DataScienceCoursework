{
  "nbformat": 4,
  "nbformat_minor": 0,
  "metadata": {
    "colab": {
      "provenance": [],
      "include_colab_link": true
    },
    "kernelspec": {
      "name": "python3",
      "display_name": "Python 3"
    },
    "language_info": {
      "name": "python"
    }
  },
  "cells": [
    {
      "cell_type": "markdown",
      "metadata": {
        "id": "view-in-github",
        "colab_type": "text"
      },
      "source": [
        "<a href=\"https://colab.research.google.com/github/emmad225/DataScienceCoursework/blob/main/HW3.ipynb\" target=\"_parent\"><img src=\"https://colab.research.google.com/assets/colab-badge.svg\" alt=\"Open In Colab\"/></a>"
      ]
    },
    {
      "cell_type": "markdown",
      "source": [
        "Q1: Simulate 15 samples from a Poisson random variable with parameter R0 = 2.5. Next implement STAN code to estimate the Poisson parameter R0 from the simulated data. Use an uninformative prior for R0 that is cauchy(0,100). Use 10000 MCMC iterations and find the posterior mean and 95% Bayesian credible interval for the estimated R0. How do these agree with the true value of R0 = 2.5?"
      ],
      "metadata": {
        "id": "m2FNY_2SjLx-"
      }
    },
    {
      "cell_type": "code",
      "source": [
        "!pip install nest-asyncio\n"
      ],
      "metadata": {
        "colab": {
          "base_uri": "https://localhost:8080/"
        },
        "id": "rt6VaqaZbdLc",
        "outputId": "7220fd9d-bbef-4726-9afc-b78141b518c3"
      },
      "execution_count": null,
      "outputs": [
        {
          "output_type": "stream",
          "name": "stdout",
          "text": [
            "Looking in indexes: https://pypi.org/simple, https://us-python.pkg.dev/colab-wheels/public/simple/\n",
            "Requirement already satisfied: nest-asyncio in /usr/local/lib/python3.7/dist-packages (1.5.6)\n"
          ]
        }
      ]
    },
    {
      "cell_type": "code",
      "execution_count": null,
      "metadata": {
        "colab": {
          "base_uri": "https://localhost:8080/",
          "height": 541
        },
        "id": "eAmr7x1HaAOk",
        "outputId": "4795939a-466b-4843-9df1-ca3b0a7272f4"
      },
      "outputs": [
        {
          "output_type": "stream",
          "name": "stdout",
          "text": [
            "Building...\n"
          ]
        },
        {
          "output_type": "stream",
          "name": "stderr",
          "text": [
            "\n",
            "Building: found in cache, done.Messages from stanc:\n",
            "Warning in '/tmp/httpstan_pntpq98k/model_pg3ykea6.stan', line 10, column 16: Argument 100 suggests there may be parameters that are not unit scale; consider rescaling with a multiplier (see manual section 22.12).\n",
            "Sampling:   0%\n",
            "Sampling: 100% (11000/11000)\n",
            "Sampling: 100% (11000/11000), done.\n",
            "Messages received during sampling:\n",
            "  Gradient evaluation took 6e-06 seconds\n",
            "  1000 transitions using 10 leapfrog steps per transition would take 0.06 seconds.\n",
            "  Adjust your expectations accordingly!\n"
          ]
        },
        {
          "output_type": "stream",
          "name": "stdout",
          "text": [
            "mean of Poisson probability:  2.139640708899386\n",
            "95% Bayesian credible interval:  [1.46978108 2.9183484 ]\n"
          ]
        },
        {
          "output_type": "display_data",
          "data": {
            "text/plain": [
              "<Figure size 432x288 with 1 Axes>"
            ],
            "image/png": "[encoded data removed]"
          },
          "metadata": {
            "needs_background": "light"
          }
        }
      ],
      "source": [
        "import nest_asyncio\n",
        "nest_asyncio.apply()\n",
        "import stan\n",
        "import matplotlib.pyplot as plt\n",
        "import numpy as np\n",
        "import networkx as nx\n",
        "\n",
        "model_code = \"\"\"\n",
        "data {\n",
        "  int N;\n",
        "  int x[N];\n",
        "}\n",
        "parameters {\n",
        "  real < lower = 0> p;\n",
        "  }\n",
        "model {\n",
        "  p ~ cauchy(0, 100);\n",
        "  x ~ poisson(p);\n",
        "}\n",
        "\"\"\"\n",
        "x = np.random.poisson(2.5, 15)\n",
        "poisson_data = {\"N\": 15,\"x\": x}\n",
        "\n",
        "posterior = stan.build(model_code, data = poisson_data, random_seed=1)\n",
        "\n",
        "fit = posterior.sample(num_chains=1, num_samples=10000)\n",
        "\n",
        "fig, ax = plt.subplots()\n",
        "ax.set_title(\"Markov Chain sampling from posterior\")\n",
        "plt.xlabel(\"MCMC iterations\")\n",
        "plt.ylabel(\"Poisson prob p\")\n",
        "plt.plot(fit[\"p\"][0])\n",
        "print(\"mean of Poisson probability: \",np.mean(fit[\"p\"][0]))\n",
        "print(\"95% Bayesian credible interval: \",np.percentile(fit[\"p\"][0], [2.5, 97.5]))"
      ]
    },
    {
      "cell_type": "markdown",
      "source": [
        "In this probelm we have simulated 15 samples from a Poisson random variable with R = 2.5. The correlated graph shows a very dense array with values ranging from domain [0,10,000] and of 0 to 10,000 and range [1.5, 4.5]. The posterior mean is approximately 3.21, while the 95% Bayesian credible interval is [2.38, 4.17]. This model samples the data as given above."
      ],
      "metadata": {
        "id": "K6K5720t8142"
      }
    },
    {
      "cell_type": "markdown",
      "source": [
        "QUESTION 2a: Modify the STAN code from Section 3.5 to fit a SEIR model instead of SIR. Note you will need to add a new exposed compartment variable, E, along with a new parameter μ, the incubation rate.\n",
        "\n",
        "Question 2b. Next choose a prior for the incubation rate μ. To do this, do some research online for what a reasonable range for the COVID-19 incubation period is (note μ is the inverse of the average incubation period)."
      ],
      "metadata": {
        "id": "a_AcFg7nyYqv"
      }
    },
    {
      "cell_type": "code",
      "source": [
        "model_code = \"\"\"\n",
        "data {\n",
        "  int<lower=2> T;  // number of observations\n",
        "  int<lower=0> y[T];     // observation vector\n",
        "  int<lower=0> N; //Total population\n",
        "  int<lower=3> Tf;\n",
        "}\n",
        "parameters {\n",
        "  real<lower=0,upper=1> B; //Beta\n",
        "  real<lower=0,upper=1> gam;//Gamma\n",
        "  real<lower=0, upper =1 > mu; //Mu\n",
        "  real<lower=0> I_init;\n",
        "  real<lower=0> E_init;\n",
        "\n",
        "\n",
        "}\n",
        "transformed parameters {\n",
        "  vector[Tf] S;\n",
        "  vector[Tf] E;\n",
        "  vector[Tf] I;\n",
        "  vector[Tf] R;\n",
        "  vector[Tf] lam;\n",
        "\n",
        "  S[1] = N - I_init - E_init;\n",
        "  E[1] = E_init;\n",
        "  I[1] = I_init;\n",
        "  R[1] = 0;\n",
        "  lam[1] = mu * E_init;\n",
        "\n",
        "  for (t in 2:Tf){\n",
        "    S[t] = S[t-1]-B*S[t-1]*I[t-1]/N;\n",
        "    E[t] = E[t-1] + B*(S[t-1]*I[t-1]/N) - mu*E[t-1];\n",
        "    I[t] = I[t-1] + B*((S[t-1]*I[t-1])/N)-gam*I[t-1];\n",
        "    R[t] = R[t-1] + gam*I[t-1];\n",
        "    lam[t] = mu * E[t];\n",
        "  }\n",
        "}\n",
        "\n",
        "model {\n",
        "\n",
        "  gam ~ lognormal(log(1./8.),.2);\n",
        "  B ~ lognormal(log(.4),.5);\n",
        "  mu ~ lognormal(1./3.,.1);\n",
        "  I_init ~cauchy(0,100);\n",
        "\n",
        "  for (t in 1:T){\n",
        "    y[t] ~ poisson(lam[t]);\n",
        "  }\n",
        "}\n",
        "generated quantities {\n",
        "\n",
        "  vector[Tf] forecast; // forecast cases from T to Tf\n",
        "  forecast=lam;\n",
        "\n",
        "}\n",
        "\"\"\""
      ],
      "metadata": {
        "id": "WIObKjrxaYO-"
      },
      "execution_count": null,
      "outputs": []
    },
    {
      "cell_type": "markdown",
      "source": [
        "Question 2c. Next use the STAN code to fit the SEIR model to Boston COVID-19 data from the spring of 2020 provided in “boston covid.csv”. Fit the model to the first 14 days of the data and then use the model to forecast out an additional 28 days. Plot the mean and 95% credible interval of the forecast and overlay on the plot the actual cases that occurred. How well did the forecast match the actual data? Interpret your results."
      ],
      "metadata": {
        "id": "RiFvlFJBBFfz"
      }
    },
    {
      "cell_type": "code",
      "source": [
        "import pandas as pd\n",
        "import numpy as np\n",
        "\n",
        "data = pd.read_csv('boston_covid.csv')\n",
        "array = np.array(data[\"NewCases\"]).astype(int)\n",
        "\n",
        "sir_data = {\"T\": 14,\"y\": array[:14],\"N\":689000,\"Tf\":42}\n",
        "\n",
        "posterior = stan.build(model_code, data=sir_data, random_seed=1)\n",
        "\n",
        "fit = posterior.sample(num_chains=1, num_samples=1000)\n",
        "\n"
      ],
      "metadata": {
        "colab": {
          "base_uri": "https://localhost:8080/"
        },
        "id": "Fa7ZQY3H0qKj",
        "outputId": "d0a8263b-7c5d-41cf-c794-1d171dd18355"
      },
      "execution_count": null,
      "outputs": [
        {
          "output_type": "stream",
          "name": "stdout",
          "text": [
            "Building...\n"
          ]
        },
        {
          "output_type": "stream",
          "name": "stderr",
          "text": [
            "\n",
            "Building: found in cache, done.Messages from stanc:\n",
            "Warning in '/tmp/httpstan_1e1kpxn9/model_r34r5zx5.stan', line 44, column 19: Argument 100 suggests there may be parameters that are not unit scale; consider rescaling with a multiplier (see manual section 22.12).\n",
            "Warning: The parameter E_init has no priors.\n",
            "Sampling:   0%\n",
            "Sampling: 100%, done.\n",
            "Messages received during sampling:\n",
            "  Gradient evaluation took 7.1e-05 seconds\n",
            "  1000 transitions using 10 leapfrog steps per transition would take 0.71 seconds.\n",
            "  Adjust your expectations accordingly!\n",
            "  Informational Message: The current Metropolis proposal is about to be rejected because of the following issue:\n",
            "  Exception: poisson_lpmf: Rate parameter is -2.767e+55, but must be nonnegative! (in '/tmp/httpstan_tmba3ywv/model_r34r5zx5.stan', line 47, column 4 to column 27)\n",
            "  If this warning occurs sporadically, such as for highly constrained variable types like covariance matrices, then the sampler is fine,\n",
            "  but if this warning occurs often then your model may be either severely ill-conditioned or misspecified.\n",
            "  Informational Message: The current Metropolis proposal is about to be rejected because of the following issue:\n",
            "  Exception: poisson_lpmf: Rate parameter is -5.10705e+54, but must be nonnegative! (in '/tmp/httpstan_tmba3ywv/model_r34r5zx5.stan', line 47, column 4 to column 27)\n",
            "  If this warning occurs sporadically, such as for highly constrained variable types like covariance matrices, then the sampler is fine,\n",
            "  but if this warning occurs often then your model may be either severely ill-conditioned or misspecified.\n",
            "  Informational Message: The current Metropolis proposal is about to be rejected because of the following issue:\n",
            "  Exception: poisson_lpmf: Rate parameter is -1.11759e+09, but must be nonnegative! (in '/tmp/httpstan_tmba3ywv/model_r34r5zx5.stan', line 47, column 4 to column 27)\n",
            "  If this warning occurs sporadically, such as for highly constrained variable types like covariance matrices, then the sampler is fine,\n",
            "  but if this warning occurs often then your model may be either severely ill-conditioned or misspecified.\n",
            "  Informational Message: The current Metropolis proposal is about to be rejected because of the following issue:\n",
            "  Exception: poisson_lpmf: Rate parameter is -inf, but must be nonnegative! (in '/tmp/httpstan_tmba3ywv/model_r34r5zx5.stan', line 47, column 4 to column 27)\n",
            "  If this warning occurs sporadically, such as for highly constrained variable types like covariance matrices, then the sampler is fine,\n",
            "  but if this warning occurs often then your model may be either severely ill-conditioned or misspecified.\n",
            "  Informational Message: The current Metropolis proposal is about to be rejected because of the following issue:\n",
            "  Exception: poisson_lpmf: Rate parameter is -2.37443e+51, but must be nonnegative! (in '/tmp/httpstan_tmba3ywv/model_r34r5zx5.stan', line 47, column 4 to column 27)\n",
            "  If this warning occurs sporadically, such as for highly constrained variable types like covariance matrices, then the sampler is fine,\n",
            "  but if this warning occurs often then your model may be either severely ill-conditioned or misspecified.\n"
          ]
        }
      ]
    },
    {
      "cell_type": "code",
      "source": [
        "fit"
      ],
      "metadata": {
        "id": "plysIbBcadSG",
        "colab": {
          "base_uri": "https://localhost:8080/"
        },
        "outputId": "1c9edb1d-29cc-4d59-e1ff-f21b7023f91d"
      },
      "execution_count": null,
      "outputs": [
        {
          "output_type": "execute_result",
          "data": {
            "text/plain": [
              "<stan.Fit>\n",
              "Parameters:\n",
              "    B: ()\n",
              "    gam: ()\n",
              "    mu: ()\n",
              "    I_init: ()\n",
              "    E_init: ()\n",
              "    S: (42,)\n",
              "    E: (42,)\n",
              "    I: (42,)\n",
              "    R: (42,)\n",
              "    lam: (42,)\n",
              "    forecast: (42,)\n",
              "Draws: 1000"
            ]
          },
          "metadata": {},
          "execution_count": 144
        }
      ]
    },
    {
      "cell_type": "code",
      "source": [
        "# plot mean and 99% CI of forecast\n",
        "fig, ax = plt.subplots()\n",
        "plt.plot(np.mean(fit[\"forecast\"],axis=1))\n",
        "ax.set_title(\"SEIR Forecast\")\n",
        "plt.xlabel(\"time in days\")\n",
        "plt.ylabel(\"new infections\")\n",
        "plt.plot(array[:42]);\n",
        "\n",
        "plt.text(10,3000,\"boston cases\")\n",
        "plt.text(32,60000,\"forecast data\")\n",
        "plt.text(30,30000,\"mean\")\n",
        "plt.fill_between(range(42), np.percentile(fit[\"forecast\"],2.5,axis=1),\n",
        "                 np.percentile(fit[\"forecast\"],97.5,axis=1), color='b', alpha=.1)\n"
      ],
      "metadata": {
        "id": "4G4U7D_hagnQ",
        "colab": {
          "base_uri": "https://localhost:8080/",
          "height": 312
        },
        "outputId": "2aba0e6c-9734-4237-d838-42b209219ba1"
      },
      "execution_count": null,
      "outputs": [
        {
          "output_type": "execute_result",
          "data": {
            "text/plain": [
              "<matplotlib.collections.PolyCollection at 0x7f66c3121e10>"
            ]
          },
          "metadata": {},
          "execution_count": 146
        },
        {
          "output_type": "display_data",
          "data": {
            "text/plain": [
              "<Figure size 432x288 with 1 Axes>"
            ],
            "image/png": "[encoded data removed]"
          },
          "metadata": {
            "needs_background": "light"
          }
        }
      ]
    },
    {
      "cell_type": "markdown",
      "source": [
        "In this example we are plotting the number of COVID cases in Boston according to the data provided and comparing this to the forecasted data and its mean value. As we can see here, the actual data of boston cases lies far below that of the projected data for the first 42 days. Therefore, the SEIR model does not seem to represent the actual data very well. The forecast reads that the number of new infetions will be far higher, beginning around x=30 than it ever actually reaches in reality."
      ],
      "metadata": {
        "id": "BI-uIVaPAsOD"
      }
    }
  ]
}