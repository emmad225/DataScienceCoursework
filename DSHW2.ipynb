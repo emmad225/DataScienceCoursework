{
  "nbformat": 4,
  "nbformat_minor": 0,
  "metadata": {
    "colab": {
      "provenance": [],
      "include_colab_link": true
    },
    "kernelspec": {
      "name": "python3",
      "display_name": "Python 3"
    },
    "language_info": {
      "name": "python"
    }
  },
  "cells": [
    {
      "cell_type": "markdown",
      "metadata": {
        "id": "view-in-github",
        "colab_type": "text"
      },
      "source": [
        "<a href=\"https://colab.research.google.com/github/emmad225/DataScienceCoursework/blob/main/DSHW2.ipynb\" target=\"_parent\"><img src=\"https://colab.research.google.com/assets/colab-badge.svg\" alt=\"Open In Colab\"/></a>"
      ]
    },
    {
      "cell_type": "code",
      "source": [
        "import pandas as pd\n",
        "import numpy as np\n",
        "data = pd.read_csv(\"insurance.csv\")"
      ],
      "metadata": {
        "id": "dubMvrcZ5utj"
      },
      "execution_count": null,
      "outputs": []
    },
    {
      "cell_type": "markdown",
      "source": [
        "#1"
      ],
      "metadata": {
        "id": "a0k_aC6OX4mc"
      }
    },
    {
      "cell_type": "markdown",
      "source": [
        "a."
      ],
      "metadata": {
        "id": "lugD0JeyX-jb"
      }
    },
    {
      "cell_type": "code",
      "source": [
        "#number of rows/columns\n",
        "#names of columns\n",
        "print(data.shape)\n",
        "print(data.columns)"
      ],
      "metadata": {
        "id": "NJ7UaiCsTDo7"
      },
      "execution_count": null,
      "outputs": []
    },
    {
      "cell_type": "markdown",
      "source": [
        "In this data set there are 1000 rows and 4 columns. The names of the four columns are customer ID, loss, premium, and the name of the insurance company."
      ],
      "metadata": {
        "id": "ddjgQ-lWUjM-"
      }
    },
    {
      "cell_type": "code",
      "source": [
        "#for numeric columns (customer ID, loss, premium) what are the min/max?\n",
        "print(data.describe())"
      ],
      "metadata": {
        "id": "ncVcNaonU09H"
      },
      "execution_count": null,
      "outputs": []
    },
    {
      "cell_type": "code",
      "source": [
        "cid_mean = data[\"customer_id\"].mean()\n",
        "print(cid_mean)\n",
        "\n",
        "l_mean = data[\"loss\"].mean()\n",
        "print(l_mean)\n",
        "\n",
        "p_mean = data[\"premium\"].mean()\n",
        "print(p_mean)"
      ],
      "metadata": {
        "id": "iZ9tJn4pWPxo"
      },
      "execution_count": null,
      "outputs": []
    },
    {
      "cell_type": "markdown",
      "source": [
        "Min/Max\n",
        "*   The min of the customer ID column is 1 while the max is 1000.\n",
        "*   The min of the loss column is 0 while the max is 100,000.\n",
        "*   The min of the premium column is -95.99 while the max is 1101.47.\n",
        "\n",
        "Mean\n",
        "*    The mean of customer ID is: 500.5\n",
        "*    The mean of loss is: 480.7371\n",
        "*    The mean of premium is: 510.28283"
      ],
      "metadata": {
        "id": "e3JUylQ0VVOK"
      }
    },
    {
      "cell_type": "markdown",
      "source": [
        "b."
      ],
      "metadata": {
        "id": "l8YtcFCTYDB5"
      }
    },
    {
      "cell_type": "code",
      "source": [
        "import matplotlib.pyplot as plt\n",
        "import numpy as np\n",
        "esurance = data[(data)['company'] == \"Esurance\"]\n",
        "esurance.loss.hist()"
      ],
      "metadata": {
        "colab": {
          "base_uri": "https://localhost:8080/",
          "height": 286
        },
        "id": "uGtC_RfeYENW",
        "outputId": "d76ad257-a511-470d-a4b6-83c1e4647da3"
      },
      "execution_count": null,
      "outputs": [
        {
          "output_type": "execute_result",
          "data": {
            "text/plain": [
              "<matplotlib.axes._subplots.AxesSubplot at 0x7f87f4bb9760>"
            ]
          },
          "metadata": {},
          "execution_count": 5
        },
        {
          "output_type": "display_data",
          "data": {
            "text/plain": [
              "<Figure size 432x288 with 1 Axes>"
            ],
            "image/png": "[encoded data removed]"
          },
          "metadata": {
            "needs_background": "light"
          }
        }
      ]
    },
    {
      "cell_type": "code",
      "source": [
        "esurance.premium.hist()"
      ],
      "metadata": {
        "colab": {
          "base_uri": "https://localhost:8080/",
          "height": 282
        },
        "id": "3SMdxXVjsQts",
        "outputId": "54ccc81f-9df6-474a-a496-603846c53ad0"
      },
      "execution_count": null,
      "outputs": [
        {
          "output_type": "execute_result",
          "data": {
            "text/plain": [
              "<matplotlib.axes._subplots.AxesSubplot at 0x7f87f4b5d040>"
            ]
          },
          "metadata": {},
          "execution_count": 6
        },
        {
          "output_type": "display_data",
          "data": {
            "text/plain": [
              "<Figure size 432x288 with 1 Axes>"
            ],
            "image/png": "[encoded data removed]"
          },
          "metadata": {
            "needs_background": "light"
          }
        }
      ]
    },
    {
      "cell_type": "code",
      "source": [
        "statefarm = data[(data)['company'] == \"StateFarm\"]\n",
        "statefarm.loss.hist()"
      ],
      "metadata": {
        "id": "rlstf77p87Mb"
      },
      "execution_count": null,
      "outputs": []
    },
    {
      "cell_type": "code",
      "source": [
        "statefarm.premium.hist()"
      ],
      "metadata": {
        "id": "4YuduVXesU1M"
      },
      "execution_count": null,
      "outputs": []
    },
    {
      "cell_type": "code",
      "source": [
        "geico = data[(data)['company'] == \"Geico\"]\n",
        "geico.loss.hist()"
      ],
      "metadata": {
        "id": "NFrp3Ms29KWA"
      },
      "execution_count": null,
      "outputs": []
    },
    {
      "cell_type": "code",
      "source": [
        "geico.premium.hist()"
      ],
      "metadata": {
        "id": "-fQbpclSsbQ9"
      },
      "execution_count": null,
      "outputs": []
    },
    {
      "cell_type": "markdown",
      "source": [
        "The histogram plots of losses for all three companies are all relatively close to 0 with a few outliers, while the premiums for each company follows a bell curve shape ranging rom 0,1000 with the maximum in all cases close to 500."
      ],
      "metadata": {
        "id": "N1uWMIoS9UGV"
      }
    },
    {
      "cell_type": "markdown",
      "source": [
        "c."
      ],
      "metadata": {
        "id": "8UzH31q89-9O"
      }
    },
    {
      "cell_type": "code",
      "source": [
        "loss = data.loc[data.company =='Esurance', ['loss']].sum()\n",
        "prem = data.loc[data.company =='Esurance', ['premium']].sum()\n",
        "\n",
        "print(loss)\n",
        "print(prem)"
      ],
      "metadata": {
        "colab": {
          "base_uri": "https://localhost:8080/"
        },
        "id": "mzA94RQUjQjT",
        "outputId": "7085bdcb-d332-442b-8ab5-42ee13bdd128"
      },
      "execution_count": null,
      "outputs": [
        {
          "output_type": "stream",
          "name": "stdout",
          "text": [
            "loss    210695.18\n",
            "dtype: float64\n",
            "premium    147477.66\n",
            "dtype: float64\n"
          ]
        }
      ]
    },
    {
      "cell_type": "markdown",
      "source": [
        "Loss Ratio of Esurance = 1.43"
      ],
      "metadata": {
        "id": "_5HovNp4w1w2"
      }
    },
    {
      "cell_type": "code",
      "source": [
        "loss = data.loc[data.company =='StateFarm', ['loss']].sum()\n",
        "prem = data.loc[data.company =='StateFarm', ['premium']].sum()\n",
        "\n",
        "print(loss)\n",
        "print(prem)"
      ],
      "metadata": {
        "id": "9En2hP1qv3E_"
      },
      "execution_count": null,
      "outputs": []
    },
    {
      "cell_type": "markdown",
      "source": [
        "Loss Ratio for StateFarm = .97"
      ],
      "metadata": {
        "id": "6uTHJwmLxHVM"
      }
    },
    {
      "cell_type": "code",
      "source": [
        "loss = data.loc[data.company =='Geico', ['loss']].sum()\n",
        "prem = data.loc[data.company =='Geico', ['premium']].sum()\n",
        "\n",
        "print(loss)\n",
        "print(prem)"
      ],
      "metadata": {
        "id": "WCsvqvzHv7RS"
      },
      "execution_count": null,
      "outputs": []
    },
    {
      "cell_type": "markdown",
      "source": [
        "Loss Ratio for Geico = .43"
      ],
      "metadata": {
        "id": "Yx8m-LfxxSH6"
      }
    },
    {
      "cell_type": "markdown",
      "source": [
        "The company with the best loss ratio is Geico while the company with the worst loss ratio is Esurance. This means that in most cases, Esurance is paying out more in claims than it is receiving in premiums, making its business more or less unprofitable."
      ],
      "metadata": {
        "id": "Q9P6gOrUxYvI"
      }
    },
    {
      "cell_type": "markdown",
      "source": [
        "# 2."
      ],
      "metadata": {
        "id": "gA2Ax9Swxu5H"
      }
    },
    {
      "cell_type": "markdown",
      "source": [
        "a. a."
      ],
      "metadata": {
        "id": "HVASYhILx2N2"
      }
    },
    {
      "cell_type": "code",
      "source": [
        "e_loss = np.array(data.loc[data.company =='Esurance', ['loss']])\n",
        "e_premium = np.array(data.loc[data.company =='Esurance', ['premium']])\n",
        "\n",
        "s_loss = np.array(data.loc[data.company =='StateFarm', ['loss']])\n",
        "s_premium = np.array(data.loc[data.company =='StateFarm', ['premium']])\n",
        "\n",
        "g_loss = np.array(data.loc[data.company =='Geico', ['loss']])\n",
        "g_premium = np.array(data.loc[data.company =='Geico', ['premium']])"
      ],
      "metadata": {
        "id": "ZrzUV8H5tE-h"
      },
      "execution_count": null,
      "outputs": []
    },
    {
      "cell_type": "code",
      "source": [
        "def bootstrap(loss, premium):\n",
        "  loss_dataset = np.squeeze(loss)\n",
        "  N = len(loss_dataset)\n",
        "  premium_dataset = np.squeeze(premium)\n",
        "  M = 10000\n",
        "  bootstrap_data = []\n",
        "  bootstrap_loss = []\n",
        "  bootstrap_premium = []\n",
        "\n",
        "  for i in range(M):\n",
        "      index= np.random.choice(N, N, replace = True)\n",
        "      datacopy_loss = loss[index]\n",
        "      datacopy_premium = premium[index]\n",
        "      bootstrap_data.append(sum(datacopy_loss)/sum(datacopy_premium))\n",
        "  return bootstrap_data\n"
      ],
      "metadata": {
        "id": "_DHeCvfZj9Mp"
      },
      "execution_count": null,
      "outputs": []
    },
    {
      "cell_type": "markdown",
      "source": [
        "b."
      ],
      "metadata": {
        "id": "0e6DhBCSQTRz"
      }
    },
    {
      "cell_type": "code",
      "source": [
        "e_ratio = bootstrap(e_loss, e_premium)"
      ],
      "metadata": {
        "id": "m1HkUllqzWU0"
      },
      "execution_count": null,
      "outputs": []
    },
    {
      "cell_type": "code",
      "source": [
        "s_ratio = bootstrap(s_loss, s_premium)"
      ],
      "metadata": {
        "id": "LT09Y02o-0nw"
      },
      "execution_count": null,
      "outputs": []
    },
    {
      "cell_type": "code",
      "source": [
        "g_ratio = bootstrap(g_loss, g_premium)"
      ],
      "metadata": {
        "id": "Jgb1QslZXATk"
      },
      "execution_count": null,
      "outputs": []
    },
    {
      "cell_type": "markdown",
      "source": [
        "c."
      ],
      "metadata": {
        "id": "0bMYyPMtXJ8z"
      }
    },
    {
      "cell_type": "code",
      "source": [
        "np.quantile(e_ratio, [0.025, 0.975])"
      ],
      "metadata": {
        "colab": {
          "base_uri": "https://localhost:8080/"
        },
        "id": "osAzPgXt_G9b",
        "outputId": "139bf555-822f-4202-836f-1b9c75738cae"
      },
      "execution_count": null,
      "outputs": [
        {
          "output_type": "execute_result",
          "data": {
            "text/plain": [
              "array([0.49011117, 2.98594014])"
            ]
          },
          "metadata": {},
          "execution_count": 33
        }
      ]
    },
    {
      "cell_type": "code",
      "source": [
        "np.quantile(s_ratio, [0.025, 0.975])\n"
      ],
      "metadata": {
        "colab": {
          "base_uri": "https://localhost:8080/"
        },
        "id": "HJ0n35RxXFs3",
        "outputId": "b890c524-9791-408c-a48a-ee6bc46dfb3f"
      },
      "execution_count": null,
      "outputs": [
        {
          "output_type": "execute_result",
          "data": {
            "text/plain": [
              "array([0.66655348, 1.31851887])"
            ]
          },
          "metadata": {},
          "execution_count": 34
        }
      ]
    },
    {
      "cell_type": "code",
      "source": [
        "np.quantile(g_ratio, [0.025, 0.975])"
      ],
      "metadata": {
        "colab": {
          "base_uri": "https://localhost:8080/"
        },
        "id": "ZsXyxcdkXHwk",
        "outputId": "7f7b3303-4b9c-42ab-a359-cfc9bf81fb68"
      },
      "execution_count": null,
      "outputs": [
        {
          "output_type": "execute_result",
          "data": {
            "text/plain": [
              "array([0.20990023, 0.68373884])"
            ]
          },
          "metadata": {},
          "execution_count": 35
        }
      ]
    },
    {
      "cell_type": "markdown",
      "source": [
        "Using the quantile function call in numpy and the ratios we calculated for each insurance company above, we are able to compute the 95% confidence intervals and find how much of an overlap there exists. For the three companies, we can see that the interval of StateFarm (0.67, 1.3) is contained within the interval for Esurance (0.5, 3) and there is signiciant overlap. Similarly, there is an overlap that exists between the intervals of Esurance and Geico as well. However, there is no overlap between StateFarm (0.67, 1.3) against the interval of Geico (0.2, 0.7) so we can expect the loss ratio of StateFarm to be higher than Geico in the next year."
      ],
      "metadata": {
        "id": "dBTLe8h2RrVj"
      }
    },
    {
      "cell_type": "markdown",
      "source": [
        "#3"
      ],
      "metadata": {
        "id": "ZUqkRD4_0viR"
      }
    },
    {
      "cell_type": "markdown",
      "source": [
        "a."
      ],
      "metadata": {
        "id": "ZFNqCeDa0xoc"
      }
    },
    {
      "cell_type": "code",
      "source": [
        "from scipy.stats import binom\n",
        "from scipy.stats import bernoulli\n",
        "import numpy as np"
      ],
      "metadata": {
        "id": "fqLd0fO12Xcy"
      },
      "execution_count": null,
      "outputs": []
    },
    {
      "cell_type": "code",
      "source": [
        "X=bernoulli.rvs(0.5, size=100)\n",
        "print(np.mean(X))\n",
        "print(np.var(X))\n",
        "print(np.std(X))\n",
        "plt.hist(X)"
      ],
      "metadata": {
        "colab": {
          "base_uri": "https://localhost:8080/",
          "height": 369
        },
        "id": "d9BmyCac2GCB",
        "outputId": "fde493c4-c877-4e13-ec90-64cad1e29fd0"
      },
      "execution_count": null,
      "outputs": [
        {
          "output_type": "stream",
          "name": "stdout",
          "text": [
            "0.47\n",
            "0.2490999999999999\n",
            "0.4990991885387111\n"
          ]
        },
        {
          "output_type": "execute_result",
          "data": {
            "text/plain": [
              "(array([53.,  0.,  0.,  0.,  0.,  0.,  0.,  0.,  0., 47.]),\n",
              " array([0. , 0.1, 0.2, 0.3, 0.4, 0.5, 0.6, 0.7, 0.8, 0.9, 1. ]),\n",
              " <a list of 10 Patch objects>)"
            ]
          },
          "metadata": {},
          "execution_count": 23
        },
        {
          "output_type": "display_data",
          "data": {
            "text/plain": [
              "<Figure size 432x288 with 1 Axes>"
            ],
            "image/png": "[encoded data removed]"
          },
          "metadata": {
            "needs_background": "light"
          }
        }
      ]
    },
    {
      "cell_type": "markdown",
      "source": [
        "For this bernoulli random variable, the mean is 0.47, the variance is 0.25 and the standard deviation is 0.50. The shape of the graoh shows two overarching results, one around 0.0-0.1 and another between 0.9-1.0. In this real world this could represent whether a team wins or loses a basketball game."
      ],
      "metadata": {
        "id": "XbSI5c-Vzbwv"
      }
    },
    {
      "cell_type": "code",
      "source": [
        "X=binom.rvs(20, 0.1, size=100)\n",
        "print(np.mean(X))\n",
        "print(np.var(X))\n",
        "print(np.std(X))\n",
        "plt.hist(X)"
      ],
      "metadata": {
        "colab": {
          "base_uri": "https://localhost:8080/",
          "height": 369
        },
        "id": "zEYfzG5Y0yir",
        "outputId": "18908573-9266-4c9e-9158-a1ceb25f474d"
      },
      "execution_count": null,
      "outputs": [
        {
          "output_type": "stream",
          "name": "stdout",
          "text": [
            "2.21\n",
            "1.9258999999999997\n",
            "1.387767992137014\n"
          ]
        },
        {
          "output_type": "execute_result",
          "data": {
            "text/plain": [
              "(array([ 8., 23.,  0., 36.,  0., 17.,  8.,  0.,  5.,  3.]),\n",
              " array([0. , 0.6, 1.2, 1.8, 2.4, 3. , 3.6, 4.2, 4.8, 5.4, 6. ]),\n",
              " <a list of 10 Patch objects>)"
            ]
          },
          "metadata": {},
          "execution_count": 24
        },
        {
          "output_type": "display_data",
          "data": {
            "text/plain": [
              "<Figure size 432x288 with 1 Axes>"
            ],
            "image/png": "[encoded data removed]"
          },
          "metadata": {
            "needs_background": "light"
          }
        }
      ]
    },
    {
      "cell_type": "markdown",
      "source": [
        "The mean of this binomial random variable is 2.21, the variance is 1.93, and the standard deviation is 1.39. This results of this graph are more distributed over a greater range of number. In the real world, this could represent how many questions an indiidual gets correct on an exam of 30 questions."
      ],
      "metadata": {
        "id": "fw2PBQYN0uG2"
      }
    },
    {
      "cell_type": "code",
      "source": [
        "X = np.random.normal(2, 1, size=100)\n",
        "print(np.mean(X))\n",
        "print(np.var(X))\n",
        "print(np.std(X))\n",
        "plt.hist(X)"
      ],
      "metadata": {
        "colab": {
          "base_uri": "https://localhost:8080/",
          "height": 404
        },
        "id": "HZ4MkIH52u4-",
        "outputId": "d260bb6a-b776-4bb8-a961-b0ad42d94190"
      },
      "execution_count": null,
      "outputs": [
        {
          "output_type": "stream",
          "name": "stdout",
          "text": [
            "1.9853837036571793\n",
            "0.7761907318264754\n",
            "0.8810168737467378\n"
          ]
        },
        {
          "output_type": "execute_result",
          "data": {
            "text/plain": [
              "(array([ 3.,  2., 11.,  5., 14., 19., 20., 11.,  9.,  6.]),\n",
              " array([-0.28799513,  0.11688552,  0.52176616,  0.92664681,  1.33152745,\n",
              "         1.7364081 ,  2.14128874,  2.54616939,  2.95105003,  3.35593068,\n",
              "         3.76081132]),\n",
              " <a list of 10 Patch objects>)"
            ]
          },
          "metadata": {},
          "execution_count": 25
        },
        {
          "output_type": "display_data",
          "data": {
            "text/plain": [
              "<Figure size 432x288 with 1 Axes>"
            ],
            "image/png": "[encoded data removed]"
          },
          "metadata": {
            "needs_background": "light"
          }
        }
      ]
    },
    {
      "cell_type": "markdown",
      "source": [
        "The mean of this normal random example is 1.99, the variance is 0.78, and the standard deviation is 0.88. This histogram also shows varying results but they are much more central to each other. In the real world this could represent the  height of a man if chosen at random."
      ],
      "metadata": {
        "id": "Z0Rjo_GP1gop"
      }
    }
  ]
}