{
  "nbformat": 4,
  "nbformat_minor": 0,
  "metadata": {
    "colab": {
      "provenance": [],
      "include_colab_link": true
    },
    "kernelspec": {
      "name": "python3",
      "display_name": "Python 3"
    },
    "language_info": {
      "name": "python"
    }
  },
  "cells": [
    {
      "cell_type": "markdown",
      "metadata": {
        "id": "view-in-github",
        "colab_type": "text"
      },
      "source": [
        "<a href=\"https://colab.research.google.com/github/emmad225/DataScienceCoursework/blob/main/DSHW1.ipynb\" target=\"_parent\"><img src=\"https://colab.research.google.com/assets/colab-badge.svg\" alt=\"Open In Colab\"/></a>"
      ]
    },
    {
      "cell_type": "markdown",
      "source": [
        "HOMEWORK #1\n",
        "EMMA DUFFY\n",
        "\n",
        "Use pandas to answer the following questions about the attached Boston Pride data (questions 1-2) and New York flight data (questions 3-5).\n",
        "\n",
        "*   Which player on the Boston Pride had the most assists per game?\n",
        "*   What is the average plus/minus statistic for forwards and what is the average for defense?\n",
        "*   How many flights were there on 2/4/13?\n",
        "*   What was the mean departure delay of flights during January?\n",
        "*   Which airline flew the most flights to Indianapolis Intl airport in the dataset?\n",
        "\n"
      ],
      "metadata": {
        "id": "pOICk0YvKJUv"
      }
    },
    {
      "cell_type": "code",
      "source": [
        "import pandas as pd\n",
        "import numpy as np"
      ],
      "metadata": {
        "id": "MfO33vGYOAAx"
      },
      "execution_count": null,
      "outputs": []
    },
    {
      "cell_type": "code",
      "execution_count": null,
      "metadata": {
        "id": "JYaTlHcVKBtb"
      },
      "outputs": [],
      "source": [
        "#1\n",
        "#Which player on the Boston Pride had the most assists per game?\n",
        "\n",
        "df = pd.read_csv('boston_pride.csv')\n",
        "sort_assists = df.iloc[:,[0,4]].sort_values(by='assists', ascending=False)\n",
        "print(sort_assists)"
      ]
    },
    {
      "cell_type": "markdown",
      "source": [
        "The player on the Boston Pride team wih the most assists per game is Loren Gabel with 10 assists. Élizabeth Giguère and Jillian Dempsey had the second most assists per game with 8."
      ],
      "metadata": {
        "id": "N8VEXE1tLziS"
      }
    },
    {
      "cell_type": "code",
      "source": [
        "#2\n",
        "#What is the average plus/minus statistic for forwards and what is the average for defense?\n",
        "\n",
        "df.groupby('position')['plus_minus'].mean()\n",
        "# F = 1.5\n",
        "# D = 0.9"
      ],
      "metadata": {
        "id": "NuJ1G6S2MU3w"
      },
      "execution_count": null,
      "outputs": []
    },
    {
      "cell_type": "markdown",
      "source": [
        "The average plus/minus statistic for a forward is 2.14 whie the average for defensive players is 3.0."
      ],
      "metadata": {
        "id": "0uWAA8ubRY2J"
      }
    },
    {
      "cell_type": "code",
      "source": [
        "#3\n",
        "#How many flights were there on 2/4/13?\n",
        "\n",
        "df_flights = pd.read_csv('flights.csv')\n",
        "df_flights.loc[(df_flights.month == 2) & (df_flights.day == 4), ['year', 'month','day']]"
      ],
      "metadata": {
        "id": "El-orYjQRXyZ"
      },
      "execution_count": null,
      "outputs": []
    },
    {
      "cell_type": "markdown",
      "source": [
        "There were 932 flights on 2/4/13!"
      ],
      "metadata": {
        "id": "6RmTIflvcCxZ"
      }
    },
    {
      "cell_type": "code",
      "source": [
        "#4\n",
        "#What was the mean departure delay of flights during January\n",
        "df_flights.groupby('month')['dep_delay'].mean()"
      ],
      "metadata": {
        "id": "6AYKd6gVcHmo"
      },
      "execution_count": null,
      "outputs": []
    },
    {
      "cell_type": "markdown",
      "source": [
        "The average depature delay for the month of January was 10.04 minutes."
      ],
      "metadata": {
        "id": "RGK--rATckDq"
      }
    },
    {
      "cell_type": "code",
      "source": [
        "#5\n",
        "#Which airline flew the most flights to Indianapolis Intl airport in the dataset?\n",
        "df_flights.loc[df_flights.dest =='IND', ['carrier', 'dest']].groupby(['carrier']).agg('count')"
      ],
      "metadata": {
        "id": "PGn5JToJdgYU"
      },
      "execution_count": null,
      "outputs": []
    },
    {
      "cell_type": "markdown",
      "source": [
        "The airline that flew the most flights to Indianapolis INTL airpt (IND) was EV, also known as ExpressJet Airlines Inc, that is a regional airline which filed for bankruptcy and ceased all operations in 2022."
      ],
      "metadata": {
        "id": "U8SSVgWNCoSA"
      }
    }
  ]
}