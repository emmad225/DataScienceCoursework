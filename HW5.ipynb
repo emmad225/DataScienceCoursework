{
  "nbformat": 4,
  "nbformat_minor": 0,
  "metadata": {
    "colab": {
      "provenance": [],
      "include_colab_link": true
    },
    "kernelspec": {
      "name": "python3",
      "display_name": "Python 3"
    },
    "language_info": {
      "name": "python"
    }
  },
  "cells": [
    {
      "cell_type": "markdown",
      "metadata": {
        "id": "view-in-github",
        "colab_type": "text"
      },
      "source": [
        "<a href=\"https://colab.research.google.com/github/emmad225/DataScienceCoursework/blob/main/HW5.ipynb\" target=\"_parent\"><img src=\"https://colab.research.google.com/assets/colab-badge.svg\" alt=\"Open In Colab\"/></a>"
      ]
    },
    {
      "cell_type": "code",
      "execution_count": null,
      "metadata": {
        "colab": {
          "base_uri": "https://localhost:8080/"
        },
        "id": "bITBwjIQ4gPU",
        "outputId": "cc7818df-8d62-428b-ab86-a5cc30c95327"
      },
      "outputs": [
        {
          "output_type": "stream",
          "name": "stdout",
          "text": [
            "Looking in indexes: https://pypi.org/simple, https://us-python.pkg.dev/colab-wheels/public/simple/\n",
            "Collecting nest-asyncio\n",
            "  Downloading nest_asyncio-1.5.6-py3-none-any.whl (5.2 kB)\n",
            "Installing collected packages: nest-asyncio\n",
            "Successfully installed nest-asyncio-1.5.6\n"
          ]
        }
      ],
      "source": [
        "!pip install nest-asyncio"
      ]
    },
    {
      "cell_type": "code",
      "source": [
        "import nest_asyncio\n",
        "nest_asyncio.apply()\n",
        "import matplotlib.pyplot as plt\n",
        "import numpy as np\n",
        "import pandas as pd\n",
        "import stan\n",
        "import math\n",
        "import nltk\n",
        "from nltk.corpus import stopwords\n",
        "from nltk.tokenize import sent_tokenize, word_tokenize\n",
        "from google.colab import files\n",
        "uploaded = files.upload()\n",
        "import pandas as pd\n",
        "import io"
      ],
      "metadata": {
        "id": "HKDieJ2Y44U3",
        "colab": {
          "base_uri": "https://localhost:8080/",
          "height": 73
        },
        "outputId": "3453aac6-56f4-49cd-b7b8-779c379a4cb3"
      },
      "execution_count": null,
      "outputs": [
        {
          "output_type": "display_data",
          "data": {
            "text/plain": [
              "<IPython.core.display.HTML object>"
            ],
            "text/html": [
              "\n",
              "     <input type=\"file\" id=\"files-a5a0ca7b-e72c-4b6e-8cec-4e027e3183d6\" name=\"files[]\" multiple disabled\n",
              "        style=\"border:none\" />\n",
              "     <output id=\"result-a5a0ca7b-e72c-4b6e-8cec-4e027e3183d6\">\n",
              "      Upload widget is only available when the cell has been executed in the\n",
              "      current browser session. Please rerun this cell to enable.\n",
              "      </output>\n",
              "      <script>// Copyright 2017 Google LLC\n",
              "//\n",
              "// Licensed under the Apache License, Version 2.0 (the \"License\");\n",
              "// you may not use this file except in compliance with the License.\n",
              "// You may obtain a copy of the License at\n",
              "//\n",
              "//      http://www.apache.org/licenses/LICENSE-2.0\n",
              "//\n",
              "// Unless required by applicable law or agreed to in writing, software\n",
              "// distributed under the License is distributed on an \"AS IS\" BASIS,\n",
              "// WITHOUT WARRANTIES OR CONDITIONS OF ANY KIND, either express or implied.\n",
              "// See the License for the specific language governing permissions and\n",
              "// limitations under the License.\n",
              "\n",
              "/**\n",
              " * @fileoverview Helpers for google.colab Python module.\n",
              " */\n",
              "(function(scope) {\n",
              "function span(text, styleAttributes = {}) {\n",
              "  const element = document.createElement('span');\n",
              "  element.textContent = text;\n",
              "  for (const key of Object.keys(styleAttributes)) {\n",
              "    element.style[key] = styleAttributes[key];\n",
              "  }\n",
              "  return element;\n",
              "}\n",
              "\n",
              "// Max number of bytes which will be uploaded at a time.\n",
              "const MAX_PAYLOAD_SIZE = 100 * 1024;\n",
              "\n",
              "function _uploadFiles(inputId, outputId) {\n",
              "  const steps = uploadFilesStep(inputId, outputId);\n",
              "  const outputElement = document.getElementById(outputId);\n",
              "  // Cache steps on the outputElement to make it available for the next call\n",
              "  // to uploadFilesContinue from Python.\n",
              "  outputElement.steps = steps;\n",
              "\n",
              "  return _uploadFilesContinue(outputId);\n",
              "}\n",
              "\n",
              "// This is roughly an async generator (not supported in the browser yet),\n",
              "// where there are multiple asynchronous steps and the Python side is going\n",
              "// to poll for completion of each step.\n",
              "// This uses a Promise to block the python side on completion of each step,\n",
              "// then passes the result of the previous step as the input to the next step.\n",
              "function _uploadFilesContinue(outputId) {\n",
              "  const outputElement = document.getElementById(outputId);\n",
              "  const steps = outputElement.steps;\n",
              "\n",
              "  const next = steps.next(outputElement.lastPromiseValue);\n",
              "  return Promise.resolve(next.value.promise).then((value) => {\n",
              "    // Cache the last promise value to make it available to the next\n",
              "    // step of the generator.\n",
              "    outputElement.lastPromiseValue = value;\n",
              "    return next.value.response;\n",
              "  });\n",
              "}\n",
              "\n",
              "/**\n",
              " * Generator function which is called between each async step of the upload\n",
              " * process.\n",
              " * @param {string} inputId Element ID of the input file picker element.\n",
              " * @param {string} outputId Element ID of the output display.\n",
              " * @return {!Iterable<!Object>} Iterable of next steps.\n",
              " */\n",
              "function* uploadFilesStep(inputId, outputId) {\n",
              "  const inputElement = document.getElementById(inputId);\n",
              "  inputElement.disabled = false;\n",
              "\n",
              "  const outputElement = document.getElementById(outputId);\n",
              "  outputElement.innerHTML = '';\n",
              "\n",
              "  const pickedPromise = new Promise((resolve) => {\n",
              "    inputElement.addEventListener('change', (e) => {\n",
              "      resolve(e.target.files);\n",
              "    });\n",
              "  });\n",
              "\n",
              "  const cancel = document.createElement('button');\n",
              "  inputElement.parentElement.appendChild(cancel);\n",
              "  cancel.textContent = 'Cancel upload';\n",
              "  const cancelPromise = new Promise((resolve) => {\n",
              "    cancel.onclick = () => {\n",
              "      resolve(null);\n",
              "    };\n",
              "  });\n",
              "\n",
              "  // Wait for the user to pick the files.\n",
              "  const files = yield {\n",
              "    promise: Promise.race([pickedPromise, cancelPromise]),\n",
              "    response: {\n",
              "      action: 'starting',\n",
              "    }\n",
              "  };\n",
              "\n",
              "  cancel.remove();\n",
              "\n",
              "  // Disable the input element since further picks are not allowed.\n",
              "  inputElement.disabled = true;\n",
              "\n",
              "  if (!files) {\n",
              "    return {\n",
              "      response: {\n",
              "        action: 'complete',\n",
              "      }\n",
              "    };\n",
              "  }\n",
              "\n",
              "  for (const file of files) {\n",
              "    const li = document.createElement('li');\n",
              "    li.append(span(file.name, {fontWeight: 'bold'}));\n",
              "    li.append(span(\n",
              "        `(${file.type || 'n/a'}) - ${file.size} bytes, ` +\n",
              "        `last modified: ${\n",
              "            file.lastModifiedDate ? file.lastModifiedDate.toLocaleDateString() :\n",
              "                                    'n/a'} - `));\n",
              "    const percent = span('0% done');\n",
              "    li.appendChild(percent);\n",
              "\n",
              "    outputElement.appendChild(li);\n",
              "\n",
              "    const fileDataPromise = new Promise((resolve) => {\n",
              "      const reader = new FileReader();\n",
              "      reader.onload = (e) => {\n",
              "        resolve(e.target.result);\n",
              "      };\n",
              "      reader.readAsArrayBuffer(file);\n",
              "    });\n",
              "    // Wait for the data to be ready.\n",
              "    let fileData = yield {\n",
              "      promise: fileDataPromise,\n",
              "      response: {\n",
              "        action: 'continue',\n",
              "      }\n",
              "    };\n",
              "\n",
              "    // Use a chunked sending to avoid message size limits. See b/62115660.\n",
              "    let position = 0;\n",
              "    do {\n",
              "      const length = Math.min(fileData.byteLength - position, MAX_PAYLOAD_SIZE);\n",
              "      const chunk = new Uint8Array(fileData, position, length);\n",
              "      position += length;\n",
              "\n",
              "      const base64 = btoa(String.fromCharCode.apply(null, chunk));\n",
              "      yield {\n",
              "        response: {\n",
              "          action: 'append',\n",
              "          file: file.name,\n",
              "          data: base64,\n",
              "        },\n",
              "      };\n",
              "\n",
              "      let percentDone = fileData.byteLength === 0 ?\n",
              "          100 :\n",
              "          Math.round((position / fileData.byteLength) * 100);\n",
              "      percent.textContent = `${percentDone}% done`;\n",
              "\n",
              "    } while (position < fileData.byteLength);\n",
              "  }\n",
              "\n",
              "  // All done.\n",
              "  yield {\n",
              "    response: {\n",
              "      action: 'complete',\n",
              "    }\n",
              "  };\n",
              "}\n",
              "\n",
              "scope.google = scope.google || {};\n",
              "scope.google.colab = scope.google.colab || {};\n",
              "scope.google.colab._files = {\n",
              "  _uploadFiles,\n",
              "  _uploadFilesContinue,\n",
              "};\n",
              "})(self);\n",
              "</script> "
            ]
          },
          "metadata": {}
        },
        {
          "output_type": "stream",
          "name": "stdout",
          "text": [
            "Saving huffpost.csv to huffpost.csv\n"
          ]
        }
      ]
    },
    {
      "cell_type": "code",
      "source": [
        "df = pd.read_csv(io.BytesIO(uploaded['huffpost.csv']))\n",
        "dfcount=df.groupby(['category']).size().reset_index(name='count').sort_values(['count'], ascending=False)\n",
        "\n",
        "print(dfcount.sum())\n",
        "print(dfcount)\n",
        "print(df.head)\n"
      ],
      "metadata": {
        "colab": {
          "base_uri": "https://localhost:8080/"
        },
        "id": "CZ8-LoJt46Tt",
        "outputId": "2585ec5a-1e1a-4df2-844d-f0a5549c2417"
      },
      "execution_count": null,
      "outputs": [
        {
          "output_type": "stream",
          "name": "stdout",
          "text": [
            "          category  count\n",
            "15        POLITICS   2863\n",
            "23       U.S. NEWS   1366\n",
            "6    ENTERTAINMENT   1304\n",
            "28      WORLD NEWS   1110\n",
            "2           COMEDY    225\n",
            "19          SPORTS    193\n",
            "20  STYLE & BEAUTY    165\n",
            "3            CRIME    157\n",
            "12           MEDIA    129\n",
            "9    HOME & LIVING    125\n",
            "7      ENVIRONMENT    121\n",
            "26        WELLNESS    118\n",
            "14       PARENTING    114\n",
            "8     FOOD & DRINK    114\n",
            "25      WEIRD NEWS    107\n",
            "27           WOMEN     82\n",
            "1         BUSINESS     55\n",
            "0     BLACK VOICES     55\n",
            "13           MONEY     49\n",
            "4   CULTURE & ARTS     44\n",
            "16    QUEER VOICES     33\n",
            "18         SCIENCE     28\n",
            "10          IMPACT     25\n",
            "21            TECH     22\n",
            "17        RELIGION     21\n",
            "22          TRAVEL     13\n",
            "5        EDUCATION     10\n",
            "24        WEDDINGS      2\n",
            "11   LATINO VOICES      1\n",
            "<bound method NDFrame.head of                                                    link  \\\n",
            "0     https://www.huffpost.com/entry/covid-boosters-...   \n",
            "1     https://www.huffpost.com/entry/american-airlin...   \n",
            "2     https://www.huffpost.com/entry/funniest-tweets...   \n",
            "3     https://www.huffpost.com/entry/funniest-parent...   \n",
            "4     https://www.huffpost.com/entry/amy-cooper-lose...   \n",
            "...                                                 ...   \n",
            "8646  https://www.huffpost.com/entry/facebook-not-do...   \n",
            "8647  https://www.huffpost.com/entry/trump-tariffs-s...   \n",
            "8648  https://www.huffpost.com/entry/pedro-sanchez-s...   \n",
            "8649  https://www.huffpost.com/entry/the-morning-ema...   \n",
            "8650  https://www.huffpost.com/entry/sesame-street-l...   \n",
            "\n",
            "                                               headline    category  \\\n",
            "0     Over 4 Million Americans Roll Up Sleeves For O...   U.S. NEWS   \n",
            "1     American Airlines Flyer Charged, Banned For Li...   U.S. NEWS   \n",
            "2     23 Of The Funniest Tweets About Cats And Dogs ...      COMEDY   \n",
            "3     The Funniest Tweets From Parents This Week (Se...   PARENTING   \n",
            "4     Woman Who Called Cops On Black Bird-Watcher Lo...   U.S. NEWS   \n",
            "...                                                 ...         ...   \n",
            "8646  Facebook No Longer The Dominant Social Media P...   U.S. NEWS   \n",
            "8647  EU, Mexico And Canada Retaliate Against Trump'...  WORLD NEWS   \n",
            "8648  Socialist Pedro Sanchez Succeeds Mariano Rajoy...  WORLD NEWS   \n",
            "8649  Trump's Tariffs Could Cost Millions Of America...   U.S. NEWS   \n",
            "8650  Sesame Workshop Loses Challenge To Melissa McC...   U.S. NEWS   \n",
            "\n",
            "                                      short_description  \\\n",
            "0     Health experts said it is too early to predict...   \n",
            "1     He was subdued by passengers and crew when he ...   \n",
            "2     \"Until you have a dog you don't understand wha...   \n",
            "3     \"Accidentally put grown-up toothpaste on my to...   \n",
            "4     Amy Cooper accused investment firm Franklin Te...   \n",
            "...                                                 ...   \n",
            "8646  The platform that made “likes” a thing may no ...   \n",
            "8647  The EU is challenging the legality of the new ...   \n",
            "8648  Rajoy lost a parliamentary confidence vote tri...   \n",
            "8649  Allies promise to hit back, targeting Trump vo...   \n",
            "8650  A judge ruled that \"The Happytime Murders\" mad...   \n",
            "\n",
            "                                         authors        date  \n",
            "0                           Carla K. Johnson, AP  2022-09-23  \n",
            "1                                 Mary Papenfuss  2022-09-23  \n",
            "2                                  Elyse Wanshel  2022-09-23  \n",
            "3                               Caroline Bologna  2022-09-23  \n",
            "4                                 Nina Golgowski  2022-09-22  \n",
            "...                                          ...         ...  \n",
            "8646                               Andy McDonald  2018-06-01  \n",
            "8647  Jason Lange and Philip Blenkinsop, Reuters  2018-06-01  \n",
            "8648                                         NaN  2018-06-01  \n",
            "8649                                   Paul Vale  2018-06-01  \n",
            "8650                              Mary Papenfuss  2018-06-01  \n",
            "\n",
            "[8651 rows x 6 columns]>\n"
          ]
        }
      ]
    },
    {
      "cell_type": "code",
      "source": [
        "df['short_description']=df['short_description'].str.replace('\\n','')\n",
        "df['short_description']=df['short_description'].str.replace(',','')\n",
        "df['short_description']=df['short_description'].str.replace('.','')\n",
        "df['short_description']=df['short_description'].str.replace('?','')\n",
        "df['word']=df['short_description'].str.split(\" \")\n",
        "\n",
        "df_long=df.explode(['word']).reset_index()\n",
        "df_long[\"word\"]=df_long[\"word\"].str.lower()\n",
        "\n",
        "print(df_long.head)"
      ],
      "metadata": {
        "colab": {
          "base_uri": "https://localhost:8080/"
        },
        "id": "boOy_Kx_kIua",
        "outputId": "7d0e3992-9516-4de5-ac86-1b31568500d6"
      },
      "execution_count": null,
      "outputs": [
        {
          "output_type": "stream",
          "name": "stderr",
          "text": [
            "/usr/local/lib/python3.7/dist-packages/ipykernel_launcher.py:3: FutureWarning: The default value of regex will change from True to False in a future version. In addition, single character regular expressions will *not* be treated as literal strings when regex=True.\n",
            "  This is separate from the ipykernel package so we can avoid doing imports until\n",
            "/usr/local/lib/python3.7/dist-packages/ipykernel_launcher.py:4: FutureWarning: The default value of regex will change from True to False in a future version. In addition, single character regular expressions will *not* be treated as literal strings when regex=True.\n",
            "  after removing the cwd from sys.path.\n"
          ]
        },
        {
          "output_type": "stream",
          "name": "stdout",
          "text": [
            "<bound method NDFrame.head of         index                                               link  \\\n",
            "0           0  https://www.huffpost.com/entry/covid-boosters-...   \n",
            "1           0  https://www.huffpost.com/entry/covid-boosters-...   \n",
            "2           0  https://www.huffpost.com/entry/covid-boosters-...   \n",
            "3           0  https://www.huffpost.com/entry/covid-boosters-...   \n",
            "4           0  https://www.huffpost.com/entry/covid-boosters-...   \n",
            "...       ...                                                ...   \n",
            "158254   8650  https://www.huffpost.com/entry/sesame-street-l...   \n",
            "158255   8650  https://www.huffpost.com/entry/sesame-street-l...   \n",
            "158256   8650  https://www.huffpost.com/entry/sesame-street-l...   \n",
            "158257   8650  https://www.huffpost.com/entry/sesame-street-l...   \n",
            "158258   8650  https://www.huffpost.com/entry/sesame-street-l...   \n",
            "\n",
            "                                                 headline   category  \\\n",
            "0       Over 4 Million Americans Roll Up Sleeves For O...  U.S. NEWS   \n",
            "1       Over 4 Million Americans Roll Up Sleeves For O...  U.S. NEWS   \n",
            "2       Over 4 Million Americans Roll Up Sleeves For O...  U.S. NEWS   \n",
            "3       Over 4 Million Americans Roll Up Sleeves For O...  U.S. NEWS   \n",
            "4       Over 4 Million Americans Roll Up Sleeves For O...  U.S. NEWS   \n",
            "...                                                   ...        ...   \n",
            "158254  Sesame Workshop Loses Challenge To Melissa McC...  U.S. NEWS   \n",
            "158255  Sesame Workshop Loses Challenge To Melissa McC...  U.S. NEWS   \n",
            "158256  Sesame Workshop Loses Challenge To Melissa McC...  U.S. NEWS   \n",
            "158257  Sesame Workshop Loses Challenge To Melissa McC...  U.S. NEWS   \n",
            "158258  Sesame Workshop Loses Challenge To Melissa McC...  U.S. NEWS   \n",
            "\n",
            "                                        short_description  \\\n",
            "0       Health experts said it is too early to predict...   \n",
            "1       Health experts said it is too early to predict...   \n",
            "2       Health experts said it is too early to predict...   \n",
            "3       Health experts said it is too early to predict...   \n",
            "4       Health experts said it is too early to predict...   \n",
            "...                                                   ...   \n",
            "158254  A judge ruled that \"The Happytime Murders\" mad...   \n",
            "158255  A judge ruled that \"The Happytime Murders\" mad...   \n",
            "158256  A judge ruled that \"The Happytime Murders\" mad...   \n",
            "158257  A judge ruled that \"The Happytime Murders\" mad...   \n",
            "158258  A judge ruled that \"The Happytime Murders\" mad...   \n",
            "\n",
            "                     authors        date     word  \n",
            "0       Carla K. Johnson, AP  2022-09-23   health  \n",
            "1       Carla K. Johnson, AP  2022-09-23  experts  \n",
            "2       Carla K. Johnson, AP  2022-09-23     said  \n",
            "3       Carla K. Johnson, AP  2022-09-23       it  \n",
            "4       Carla K. Johnson, AP  2022-09-23       is  \n",
            "...                      ...         ...      ...  \n",
            "158254        Mary Papenfuss  2018-06-01     from  \n",
            "158255        Mary Papenfuss  2018-06-01      the  \n",
            "158256        Mary Papenfuss  2018-06-01  \"sesame  \n",
            "158257        Mary Papenfuss  2018-06-01  street\"  \n",
            "158258        Mary Papenfuss  2018-06-01     cast  \n",
            "\n",
            "[158259 rows x 8 columns]>\n"
          ]
        }
      ]
    },
    {
      "cell_type": "code",
      "source": [
        "dfcount=df_long.groupby(['category', 'word']).size().reset_index(name='count').sort_values(['count'], ascending=False)\n",
        "print(dfcount.head(10))\n"
      ],
      "metadata": {
        "colab": {
          "base_uri": "https://localhost:8080/"
        },
        "id": "4H7HuixdkWXB",
        "outputId": "57757ca7-c9ff-4c69-82da-022e961a00c0"
      },
      "execution_count": null,
      "outputs": [
        {
          "output_type": "stream",
          "name": "stdout",
          "text": [
            "            category word  count\n",
            "25678       POLITICS  the   3819\n",
            "10393  ENTERTAINMENT  the   1812\n",
            "37174      U.S. NEWS  the   1710\n",
            "45409     WORLD NEWS  the   1541\n",
            "25796       POLITICS   to   1485\n",
            "17517       POLITICS    a   1286\n",
            "23144       POLITICS   of   1141\n",
            "21545       POLITICS   in    881\n",
            "17835       POLITICS  and    838\n",
            "31385      U.S. NEWS    a    732\n"
          ]
        }
      ]
    },
    {
      "cell_type": "code",
      "source": [
        "nltk.download('stopwords')\n",
        "stop_words = set(stopwords.words('english'))\n",
        "\n",
        "df_no_stop = df_long[~df_long.word.isin(stopwords.words('english'))]\n",
        "dfcount=df_no_stop.groupby(['short_description','word']).size().reset_index(name='count').sort_values(['count'], ascending=False)\n",
        "print(dfcount.head(10))"
      ],
      "metadata": {
        "colab": {
          "base_uri": "https://localhost:8080/"
        },
        "id": "HyV_ico3GKz_",
        "outputId": "efbe85c0-4f45-4bd8-dda9-e6d720973ffc"
      },
      "execution_count": null,
      "outputs": [
        {
          "output_type": "stream",
          "name": "stderr",
          "text": [
            "[nltk_data] Downloading package stopwords to /root/nltk_data...\n",
            "[nltk_data]   Unzipping corpora/stopwords.zip.\n"
          ]
        },
        {
          "output_type": "stream",
          "name": "stdout",
          "text": [
            "                                       short_description       word  count\n",
            "6506   \"Wall wall wall wall wall – is that all all al...       wall      4\n",
            "86136       There is always a tweet Always always always     always      4\n",
            "83354  The streaming service announced the movies and...       soon      3\n",
            "40559  New Jersey has been reporting about 647 new ca...        new      3\n",
            "96984  “The first thing that comes to mind man is all...      we’re      3\n",
            "30126  Home because of the coronavirus Use these expe...       hair      3\n",
            "67212  The best face masks for dry skin pores acne oi...       skin      3\n",
            "32575  Introducing a new HuffPost series on the pop c...  something      3\n",
            "83355  The streaming service announced the movies and...  streaming      3\n",
            "83353  The streaming service announced the movies and...      shows      3\n"
          ]
        }
      ]
    },
    {
      "cell_type": "markdown",
      "source": [
        "Up to this point-- the most common words by categrogy of article have been found without stop words!"
      ],
      "metadata": {
        "id": "XdUDur3PPkoE"
      }
    },
    {
      "cell_type": "code",
      "source": [
        "from textblob import TextBlob\n",
        "print(TextBlob(df['short_description'][0]).sentiment)\n"
      ],
      "metadata": {
        "colab": {
          "base_uri": "https://localhost:8080/"
        },
        "id": "s_62UyWIlKuV",
        "outputId": "9b3d7743-0cbc-4f67-8f21-a3bc2b2e5948"
      },
      "execution_count": null,
      "outputs": [
        {
          "output_type": "stream",
          "name": "stdout",
          "text": [
            "Sentiment(polarity=0.11818181818181818, subjectivity=0.37727272727272726)\n"
          ]
        }
      ]
    },
    {
      "cell_type": "markdown",
      "source": [
        "\n",
        "*   Polarity = more positive sentiments\n",
        "*   Subjectivity = little less than half subjective"
      ],
      "metadata": {
        "id": "0rfP2SudTnWw"
      }
    },
    {
      "cell_type": "code",
      "source": [
        "df['sentiment']=df['short_description'].apply(lambda Text: pd.Series(TextBlob(Text).sentiment[0]))\n",
        "print(df.groupby('category').mean('sentiment'))"
      ],
      "metadata": {
        "colab": {
          "base_uri": "https://localhost:8080/"
        },
        "id": "NmBPxDRelW4b",
        "outputId": "b6710f47-cd47-4e86-9f65-a05494fe04ea"
      },
      "execution_count": null,
      "outputs": [
        {
          "output_type": "stream",
          "name": "stdout",
          "text": [
            "                sentiment\n",
            "category                 \n",
            "BLACK VOICES     0.055809\n",
            "BUSINESS         0.088480\n",
            "COMEDY          -0.022824\n",
            "CRIME           -0.036736\n",
            "CULTURE & ARTS   0.122553\n",
            "EDUCATION        0.173523\n",
            "ENTERTAINMENT    0.078001\n",
            "ENVIRONMENT      0.060677\n",
            "FOOD & DRINK     0.144128\n",
            "HOME & LIVING    0.173589\n",
            "IMPACT           0.078644\n",
            "LATINO VOICES   -0.550000\n",
            "MEDIA            0.041005\n",
            "MONEY            0.100184\n",
            "PARENTING        0.107821\n",
            "POLITICS         0.037889\n",
            "QUEER VOICES     0.097353\n",
            "RELIGION         0.051284\n",
            "SCIENCE          0.129445\n",
            "SPORTS           0.074477\n",
            "STYLE & BEAUTY   0.135574\n",
            "TECH             0.048058\n",
            "TRAVEL           0.147436\n",
            "U.S. NEWS        0.030667\n",
            "WEDDINGS         0.040000\n",
            "WEIRD NEWS       0.000291\n",
            "WELLNESS         0.082305\n",
            "WOMEN            0.085836\n",
            "WORLD NEWS       0.029958\n"
          ]
        }
      ]
    },
    {
      "cell_type": "markdown",
      "source": [
        "The average sentiment of the U.S. NEWS category is 0.030667 whereas the sentiment of the ENTERTAINMENT category is  0.078001. The sentiment function helps to recognize mood and emotions within a text, and assigns a value depenedent where it falls on the scale of polarity and subjectivity [-1, 1] respectively. Both U.S. NEWS  and ENTERTAINMENT averages are positive values over 0."
      ],
      "metadata": {
        "id": "4bga_PkwQk1q"
      }
    },
    {
      "cell_type": "code",
      "source": [
        "from sklearn.feature_extraction.text import TfidfVectorizer\n",
        "df_small = df[df.category.isin([\"U.S. NEWS\", \"ENTERTAINMENT\"])]\n",
        "vectorizer = TfidfVectorizer(\n",
        "              sublinear_tf = True, max_df=0.8, min_df=5, max_features=500, stop_words=\"english\")\n",
        "Xfeatures = vectorizer.fit_transform(df_small.short_description)\n",
        "feature_names = vectorizer.get_feature_names_out()\n",
        "print(feature_names)"
      ],
      "metadata": {
        "colab": {
          "base_uri": "https://localhost:8080/"
        },
        "id": "jpP10QTulaps",
        "outputId": "61fed3f9-c1be-4251-a4f8-75ccf3c4d20e"
      },
      "execution_count": null,
      "outputs": [
        {
          "output_type": "stream",
          "name": "stdout",
          "text": [
            "['10' '100' '11' '17' '18' '19' '20' '2017' '2019' '2020' '21' '22' '23'\n",
            " '35' 'abuse' 'academy' 'according' 'accused' 'action' 'activist' 'actor'\n",
            " 'actors' 'actress' 'administration' 'age' 'ago' 'air' 'album'\n",
            " 'allegations' 'allegedly' 'america' 'american' 'americans' 'amid'\n",
            " 'anchor' 'andrew' 'angeles' 'announced' 'anti' 'appearance' 'appeared'\n",
            " 'area' 'arrested' 'artist' 'asked' 'assault' 'attack' 'attorney' 'author'\n",
            " 'authorities' 'award' 'awards' 'away' 'baby' 'beach' 'believe' 'best'\n",
            " 'biden' 'big' 'black' 'board' 'book' 'border' 'british' 'brought'\n",
            " 'business' 'california' 'called' 'came' 'care' 'case' 'cases' 'cast'\n",
            " 'cause' 'center' 'central' 'ceremony' 'change' 'character' 'charged'\n",
            " 'charges' 'child' 'children' 'chris' 'city' 'claim' 'claimed' 'claims'\n",
            " 'coach' 'college' 'comedian' 'comedy' 'comes' 'coming' 'community'\n",
            " 'company' 'confirmed' 'coronavirus' 'country' 'county' 'couple' 'court'\n",
            " 'covid' 'crash' 'creator' 'crew' 'criminal' 'crisis' 'crowd' 'currently'\n",
            " 'daily' 'daughter' 'day' 'days' 'dead' 'deadly' 'deal' 'death' 'deaths'\n",
            " 'decision' 'department' 'did' 'didn' 'died' 'director' 'disease'\n",
            " 'district' 'doesn' 'dog' 'doing' 'don' 'donald' 'dozens' 'dr' 'duchess'\n",
            " 'duke' 'earlier' 'early' 'emergency' 'emotional' 'employees' 'end'\n",
            " 'episode' 'event' 'ex' 'expected' 'face' 'facing' 'fallon' 'family'\n",
            " 'famous' 'fan' 'fans' 'far' 'father' 'federal' 'feel' 'felt' 'festival'\n",
            " 'filed' 'film' 'final' 'finally' 'fired' 'florida' 'floyd' 'following'\n",
            " 'follows' 'forced' 'fox' 'francisco' 'friday' 'friends' 'game' 'gave'\n",
            " 'george' 'georgia' 'getting' 'going' 'golden' 'good' 'got' 'gov'\n",
            " 'government' 'governor' 'grammy' 'grand' 'great' 'group' 'guard' 'gun'\n",
            " 'half' 'hall' 'hbo' 'head' 'health' 'help' 'high' 'highest' 'history'\n",
            " 'hit' 'hollywood' 'home' 'hospital' 'host' 'hours' 'house' 'hundreds'\n",
            " 'hurricane' 'husband' 'icon' 'incident' 'including' 'information'\n",
            " 'injured' 'injuries' 'inside' 'instagram' 'interview' 'investigation'\n",
            " 'island' 'isn' 'james' 'jimmy' 'joe' 'john' 'joins' 'jones' 'jr' 'judge'\n",
            " 'jury' 'just' 'justice' 'killed' 'killing' 'king' 'know' 'known' 'late'\n",
            " 'later' 'latest' 'law' 'lawsuit' 'leave' 'led' 'left' 'legal' 'legend'\n",
            " 'let' 'letter' 'lgbtq' 'life' 'like' 'line' 'little' 'live' 'lives'\n",
            " 'living' 'll' 'local' 'long' 'look' 'los' 'lost' 'lot' 'love' 'major'\n",
            " 'make' 'man' 'mark' 'marvel' 'mass' 'mayor' 'media' 'members' 'men'\n",
            " 'mental' 'message' 'mexico' 'michael' 'mike' 'million' 'missing'\n",
            " 'mississippi' 'model' 'mom' 'moment' 'monday' 'money' 'month' 'months'\n",
            " 'morning' 'mother' 'movie' 'multiple' 'music' 'musical' 'nation'\n",
            " 'national' 'near' 'nearly' 'need' 'netflix' 'new' 'news' 'night' 'north'\n",
            " 'number' 'offered' 'office' 'officer' 'officers' 'official' 'officials'\n",
            " 'old' 'online' 'open' 'opened' 'opening' 'order' 'original' 'oscar'\n",
            " 'pandemic' 'parents' 'park' 'past' 'people' 'performance' 'person'\n",
            " 'photo' 'place' 'plane' 'play' 'played' 'playing' 'point' 'police' 'pop'\n",
            " 'popular' 'positive' 'post' 'posted' 'power' 'president' 'previously'\n",
            " 'prince' 'princess' 'public' 'quarterback' 'queen' 'rain' 'rapper' 'real'\n",
            " 'reality' 'really' 'recalled' 'received' 'recent' 'recently' 'record'\n",
            " 'red' 'related' 'release' 'released' 'report' 'reported' 'reportedly'\n",
            " 'reports' 'republican' 'residents' 'response' 'revealed' 'right' 'rights'\n",
            " 'robert' 'rock' 'role' 'royal' 'run' 'running' 'safety' 'said' 'san'\n",
            " 'saturday' 'say' 'saying' 'says' 'school' 'screen' 'season' 'second'\n",
            " 'security' 'seen' 'self' 'series' 'service' 'set' 'sex' 'sexual' 'shared'\n",
            " 'shooting' 'shortly' 'shot' 'showed' 'shows' 'singer' 'sister' 'smith'\n",
            " 'social' 'son' 'song' 'south' 'southern' 'special' 'spoke' 'star'\n",
            " 'starring' 'stars' 'state' 'states' 'stop' 'storm' 'story' 'street'\n",
            " 'students' 'sunday' 'superstar' 'support' 'supreme' 'suspect' 'sussex'\n",
            " 'taken' 'taking' 'talk' 'team' 'tested' 'texas' 'theaters' 'thing'\n",
            " 'things' 'think' 'thought' 'thousands' 'threat' 'thursday' 'time' 'times'\n",
            " 'told' 'tonight' 'took' 'trial' 'tribute' 'trump' 'trying' 'tuesday'\n",
            " 'turned' 'tv' 'tweeted' 'twitter' 'university' 'upcoming' 'used' 'using'\n",
            " 'vaccine' 've' 'version' 'victims' 'video' 'viral' 'virus' 'want'\n",
            " 'wanted' 'war' 'washington' 'wasn' 'water' 'way' 'weather' 'wednesday'\n",
            " 'week' 'weekend' 'weeks' 'went' 'white' 'wife' 'winner' 'winning' 'woman'\n",
            " 'women' 'won' 'work' 'workers' 'working' 'world' 'writer' 'wrote' 'year'\n",
            " 'years' 'york' 'young']\n"
          ]
        }
      ]
    },
    {
      "cell_type": "markdown",
      "source": [
        "Subset of keywords from U.S. NEWS and ENTERTAINMENT categories."
      ],
      "metadata": {
        "id": "pebBcf5dVzvU"
      }
    },
    {
      "cell_type": "code",
      "source": [
        "from sklearn.model_selection import train_test_split\n",
        "X_train, X_test, y_train, y_test = train_test_split(Xfeatures, df_small['category'], test_size=0.33, random_state=42)\n",
        "from sklearn.linear_model import RidgeClassifier\n",
        "clf = RidgeClassifier(tol=1e-2, solver = \"sparse_cg\")\n",
        "clf.fit(X_train, y_train)\n",
        "pred = clf.predict(X_test)\n",
        "import matplotlib.pyplot as plt\n",
        "from sklearn.metrics import ConfusionMatrixDisplay\n",
        "from sklearn.metrics import accuracy_score\n",
        "fig,ax = plt.subplots(figsize=(10,5))\n",
        "ConfusionMatrixDisplay.from_predictions(y_test, pred, ax=ax)\n",
        "print(accuracy_score(y_test,pred))"
      ],
      "metadata": {
        "colab": {
          "base_uri": "https://localhost:8080/",
          "height": 351
        },
        "id": "GRqafQWplePb",
        "outputId": "5da03b21-90ab-4ac5-9ea3-b632d5f80007"
      },
      "execution_count": null,
      "outputs": [
        {
          "output_type": "stream",
          "name": "stdout",
          "text": [
            "0.8015873015873016\n"
          ]
        },
        {
          "output_type": "display_data",
          "data": {
            "text/plain": [
              "<Figure size 720x360 with 2 Axes>"
            ],
            "image/png": "[encoded data removed]"
          },
          "metadata": {
            "needs_background": "light"
          }
        }
      ]
    },
    {
      "cell_type": "code",
      "source": [
        "average_feature_effects = clf.coef_ * np.asarray(X_train.mean(axis=0)).ravel()\n",
        "print((average_feature_effects).shape)\n",
        "top5_coeff = np.argsort(average_feature_effects[0])[-5:][::-1]\n",
        "first5_coeff = np.argsort(average_feature_effects[0])[:5][::-1]\n",
        "top5_word = np.argsort(feature_names)[-5:][::-1]\n",
        "print(top5_coeff)\n",
        "print(first5_coeff)\n",
        "print(clf.coef_[0][top5_coeff])\n",
        "print(clf.coef_[0][first5_coeff])\n",
        "print(feature_names[top5_coeff])\n",
        "print(feature_names[first5_coeff])"
      ],
      "metadata": {
        "colab": {
          "base_uri": "https://localhost:8080/"
        },
        "id": "XGP1AHSvl7vh",
        "outputId": "fcf8cea9-50d8-4c3d-c26a-05fa53eb905e"
      },
      "execution_count": null,
      "outputs": [
        {
          "output_type": "stream",
          "name": "stdout",
          "text": [
            "(1, 500)\n",
            "[381 336 326 418 487]\n",
            "[160 204 405 415  20]\n",
            "[0.2658984  0.72833507 0.5168561  0.80519106 0.85866393]\n",
            "[-1.38685565 -0.98917134 -1.37540907 -1.26335097 -1.65811039]\n",
            "['said' 'police' 'people' 'state' 'woman']\n",
            "['film' 'host' 'singer' 'star' 'actor']\n"
          ]
        }
      ]
    },
    {
      "cell_type": "markdown",
      "source": [
        "The words that correlate to the largest coefficients are in the U.S. NEWS category are ['said' 'police' 'people' 'state' 'woman'], whereas in the ENTERTAINMENT category, the most are ['film' 'host' 'singer' 'star' 'actor']. Among these two subsets, 'woman' has the highest cofefficient, as does 'actor' in U.S. NEWS and ENTERTAINMENT respectively."
      ],
      "metadata": {
        "id": "ztcEBhwLWCvB"
      }
    },
    {
      "cell_type": "markdown",
      "source": [
        "This evaluation helps us to overall see the most common words featured in different Huffington Post new articles among various categoories. We used the data to find the most common words by category. We then shrunk the data to focus specifially on U.S. NEWS and ENTERTAINMENT categories. It was interesting to find they had fairly similar values of sentiment (polarity and subjectivity) as one category is supposed to be a reliable source for news, and the other is meant to provide entertainment, gossip, and drama. Lastly, we used the data and a regression model to find the words with the largest coefficents in the data and how our Predicted Label correlates to the true data. While the predicted data is seem as being on total opposite sides of the spectrum, their colors were much opposite. The same held true for the True Label.  "
      ],
      "metadata": {
        "id": "A5GHn_wTY8NE"
      }
    }
  ]
}