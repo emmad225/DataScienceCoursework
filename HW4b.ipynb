{
  "nbformat": 4,
  "nbformat_minor": 0,
  "metadata": {
    "colab": {
      "provenance": [],
      "include_colab_link": true
    },
    "kernelspec": {
      "name": "python3",
      "display_name": "Python 3"
    },
    "language_info": {
      "name": "python"
    }
  },
  "cells": [
    {
      "cell_type": "markdown",
      "metadata": {
        "id": "view-in-github",
        "colab_type": "text"
      },
      "source": [
        "<a href=\"https://colab.research.google.com/github/emmad225/DataScienceCoursework/blob/main/HW4b.ipynb\" target=\"_parent\"><img src=\"https://colab.research.google.com/assets/colab-badge.svg\" alt=\"Open In Colab\"/></a>"
      ]
    },
    {
      "cell_type": "markdown",
      "source": [
        "Question 2a"
      ],
      "metadata": {
        "id": "UB2SB4CQemXS"
      }
    },
    {
      "cell_type": "code",
      "source": [
        "!pip install nest-asyncio"
      ],
      "metadata": {
        "colab": {
          "base_uri": "https://localhost:8080/"
        },
        "id": "I7KDziIZt66Y",
        "outputId": "f4424198-a299-4a2f-cce6-8b3f4a2b1d0e"
      },
      "execution_count": null,
      "outputs": [
        {
          "output_type": "stream",
          "name": "stdout",
          "text": [
            "Looking in indexes: https://pypi.org/simple, https://us-python.pkg.dev/colab-wheels/public/simple/\n",
            "Collecting nest-asyncio\n",
            "  Downloading nest_asyncio-1.5.6-py3-none-any.whl (5.2 kB)\n",
            "Installing collected packages: nest-asyncio\n",
            "Successfully installed nest-asyncio-1.5.6\n"
          ]
        }
      ]
    },
    {
      "cell_type": "code",
      "source": [
        "import nest_asyncio\n",
        "nest_asyncio.apply()\n",
        "import stan\n",
        "import matplotlib.pyplot as plt\n",
        "import numpy as np\n",
        "import math\n",
        "import pandas as pd\n"
      ],
      "metadata": {
        "id": "9jXoMT7ffDaQ"
      },
      "execution_count": null,
      "outputs": []
    },
    {
      "cell_type": "code",
      "source": [
        "T = 900\n",
        "\n",
        "data = pd.read_csv('LockeLowell.csv', usecols = [\"t_numeric\"])\n",
        "time = data['t_numeric'].to_numpy()\n",
        "for i in range(len(time)):\n",
        "  time[i] = math.ceil(time[i])"
      ],
      "metadata": {
        "id": "gHGScW5QtHAE"
      },
      "execution_count": null,
      "outputs": []
    },
    {
      "cell_type": "code",
      "source": [],
      "metadata": {
        "id": "fd3_MhtO9Suh"
      },
      "execution_count": null,
      "outputs": []
    },
    {
      "cell_type": "code",
      "execution_count": null,
      "metadata": {
        "id": "VfEuJ8P0d1Iq"
      },
      "outputs": [],
      "source": [
        "model_code = \"\"\"\n",
        "data {\n",
        "  int N;\n",
        "  real t[N];\n",
        "  int T;\n",
        "}\n",
        "parameters {\n",
        "  real<lower=0> gamma;\n",
        "  real<lower=0,upper=1> R;\n",
        "  real<lower=0> mu;\n",
        "}\n",
        "transformed parameters {\n",
        "  vector[N] lam;\n",
        "\n",
        "  lam[1] = mu;\n",
        "\n",
        "  for (j in 2:N){\n",
        "    lam[j]=mu;\n",
        "    for(k in 1:(j-1)){\n",
        "     lam[j] = lam[j]+R*gamma*exp(-gamma*(t[j]-t[k]));\n",
        "    }\n",
        "  }\n",
        "}\n",
        "model {\n",
        "  R ~ beta(1,1);\n",
        "  mu ~ exponential(.1);\n",
        "  gamma ~ exponential(.1);\n",
        "  for (j in 1:N){\n",
        "    target+=log(lam[j]);\n",
        "  }\n",
        "  target+=-mu*T-R*N;\n",
        "}\n",
        "\"\"\""
      ]
    },
    {
      "cell_type": "code",
      "source": [
        "\n",
        "hawkes_data = {\"N\": len(time),\"t\": time,\"T\":T}\n",
        "\n",
        "posterior = stan.build(model_code, data=hawkes_data, random_seed=2)\n",
        "\n",
        "fit = posterior.sample(num_chains=1, num_samples=1000)\n",
        "\n",
        "print(np.mean(fit['R']))\n",
        "print(np.mean(fit['mu']))\n",
        "print(np.mean(fit['gamma']))\n",
        "\n"
      ],
      "metadata": {
        "colab": {
          "base_uri": "https://localhost:8080/"
        },
        "id": "vIUkay8RpgBD",
        "outputId": "42dfaae1-6613-4f54-de9c-b02645ca3edd"
      },
      "execution_count": null,
      "outputs": [
        {
          "output_type": "stream",
          "name": "stdout",
          "text": [
            "Building...\n"
          ]
        },
        {
          "output_type": "stream",
          "name": "stderr",
          "text": [
            "\n",
            "Building: found in cache, done.Sampling:   0%\n",
            "Sampling: 100%, done.\n",
            "Messages received during sampling:\n",
            "  Gradient evaluation took 0.000242 seconds\n",
            "  1000 transitions using 10 leapfrog steps per transition would take 2.42 seconds.\n",
            "  Adjust your expectations accordingly!\n"
          ]
        },
        {
          "output_type": "stream",
          "name": "stdout",
          "text": [
            "0.5686244238285301\n",
            "0.014133399482752737\n",
            "0.3616042740011466\n"
          ]
        }
      ]
    },
    {
      "cell_type": "markdown",
      "source": [
        "As seen above, I used the csv data of the event times of attacks between Locke St. and Lowell St. gangs in Hollenbeck Los Angeles from 1999-2002 to estimate values of recovery rate, reproduction rate, and gamma parameters. The values provided from the STAN code in alignment with our data are as follows: Reproduction: 0.5686244238285301, recovery rate: 0.014133399482752737, retaliation rate (gamma): 0.3616042740011466. These values compare to the Chicago data in RoC because the reprodction number from both are similar, though the data from Locke and Lowell is slightly higher. The gamma value from the book is 125^-1 which is estimated 0.008. This value is exponentially smaller than the gamma rate found in the Los Angeles data above of 0.36 with a higher retaliation and crime rate."
      ],
      "metadata": {
        "id": "glD5gA5exNvG"
      }
    },
    {
      "cell_type": "markdown",
      "source": [
        "QUESTION 2b"
      ],
      "metadata": {
        "id": "TUMm-17jmRiI"
      }
    },
    {
      "cell_type": "code",
      "source": [
        "\n",
        "gamma=0.3616042740011466\n",
        "R=0.5686244238285301\n",
        "mu=0.014133399482752737\n",
        "T=1000\n",
        "\n",
        "times=[]\n",
        "N=np.random.poisson(mu*T)\n",
        "\n",
        "for i in range(N):\n",
        "  times.append(T*np.random.rand())\n",
        "\n",
        "cnt=0\n",
        "while(cnt<N):\n",
        "\n",
        "  for i in range(cnt,N):\n",
        "    M=np.random.poisson(R)\n",
        "    cnt+=1\n",
        "    for j in range(M):\n",
        "      tnew=times[i]+np.random.exponential(1./gamma)\n",
        "      if(tnew<T):\n",
        "        times.append(tnew)\n",
        "        N+=1\n",
        "\n",
        "\n",
        "times=np.sort(times)\n",
        "\n",
        "z=np.ones(times.shape)\n",
        "plt.scatter(times,z)"
      ],
      "metadata": {
        "colab": {
          "base_uri": "https://localhost:8080/",
          "height": 282
        },
        "id": "2nnJ8ru3gjZn",
        "outputId": "9d5376f5-7aaf-44a6-8340-7c3b951893a8"
      },
      "execution_count": null,
      "outputs": [
        {
          "output_type": "execute_result",
          "data": {
            "text/plain": [
              "<matplotlib.collections.PathCollection at 0x7fe9f43c5610>"
            ]
          },
          "metadata": {},
          "execution_count": 47
        },
        {
          "output_type": "display_data",
          "data": {
            "text/plain": [
              "<Figure size 432x288 with 1 Axes>"
            ],
            "image/png": "[encoded data removed]"
          },
          "metadata": {
            "needs_background": "light"
          }
        }
      ]
    },
    {
      "cell_type": "markdown",
      "source": [
        "When making a figure similar to the one in figure 14, I used the parameters of recovery rate, reproduction rate, and gamma that we found in order to generate it. This resulted in a sporadic and yet clustered graph. The events are less frequent than that of the Locke and Lowell data with additional outliers."
      ],
      "metadata": {
        "id": "A08M-xMc1Cka"
      }
    }
  ]
}